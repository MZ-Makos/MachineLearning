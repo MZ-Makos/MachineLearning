{
 "cells": [
  {
   "cell_type": "markdown",
   "metadata": {},
   "source": [
    "# Machine Learning 4 - Evaluation and Multi-Layer Perceptron"
   ]
  },
  {
   "cell_type": "markdown",
   "metadata": {},
   "source": [
    "#### By:\n",
    "    1. Makos, Malgorzata Z.\n",
    "    2. Mahajan, Richa"
   ]
  },
  {
   "cell_type": "markdown",
   "metadata": {},
   "source": [
    "## Preparation"
   ]
  },
  {
   "cell_type": "markdown",
   "metadata": {},
   "source": [
    "### Data Set Overview\n",
    "In recent years machine learning has developed a number of emerging applications suitable for the life science field that deals with computational and mathematical approaches for understanding and processing data. Many times machine learning algorithms help scientists save time and money to run experiments.\n",
    "\n",
    "We decided to use the same data as in the previous lab. The data come from the website Kaggle.com and concerns the age of the abalones. Originally the data has 9 columns and over 4177 rows.\n",
    "The 9 columns describe the physical characteristics of abalones including sex, length, diameter, height, total weight, shucked weight, viscera weight, shell weight and the number of rings.\n",
    "The range of the rings is 1 to 26. The age of abalone is generally calculated as the number of rings + 1.5.\n",
    "The data set is initially randomly split into 80% training samples and 20% testing samples. Since this is a classification problem, the 3 classes are created that cover the range 1 to 26. We split the range of the age to form classes as 1-7 (young), 7-12 (adult), and 12-26 (old). Note that each class is a non-overlapping age range, also as presented in the pie chart below the data has more abalones in the adult class than any other.\n",
    "\n",
    "The goal of this project is to create an effective algorithm that will classify the age range of abalones\n",
    "\n",
    "Also, we can further develop our model to predict not just the age range but even the actual age of the abalones, which can then be used to calculate its price. This would need more data though, as we would have a class for each year corresponding to the age that needs to be predicted.\n",
    "\n",
    "We would need a considerable amount of data for each class to get a good result from the prediction algorithm if we want to predict the actual age."
   ]
  },
  {
   "cell_type": "markdown",
   "metadata": {},
   "source": [
    "### The purpose of the Data Set\n",
    "Abalone is a richly nutritious food and an excellent source of iron and pantothenic acid. Abalone widely occurs in many parts of the world in natural and farming waters. The meat of this mollusk is considered a delicacy in certain parts of Latin America (especially Chile), France, New Zealand, Southeast Asia, and East Asia (especially in China, Vietnam, Japan, and Korea). Beyond the cuisine, abalones have been a source of decoration. The shell of the abalone is used to make jewelry, because of its an iridescent swirl of intense colors, ranging from deep cobalt blue and peacock green to purples, creams, and pinks. Apart from the shells, abalones can produce pearls that are very popular in New Zealand and Australia. Abalones are generally farmed these days as their wild population has reduced greatly due to fishing and poaching. There are large abalone farms where they are raised and then sold for their meat at the appropriate time.\n",
    "\n",
    "Abalones are costly and their value increases with their age. Depending on their age (number of rings) the price range is between 40 to 1400 dollars per kilogram.\n",
    "\n",
    "Abalone grows by adding new layers to their shells. The age of abalone can be determined by counting the number of shell layers (\"rings\") present. However, this process is cumbersome and involves cutting a sample of the shell, staining it, and counting the number of rings through a microscope. This process is not a good solution for farmers who farm abalones and companies that fish for abalones in the natural waters. Because the age of abalone determines their price, the machine learning algorithm is a perfect solution to determine the age of abalones based on their physical features. This would save a lot of time which is needed to calculate their age and their prices.\n",
    "\n",
    "These third parties like Farmers can thus know the abalone’s age and decide the selling price without complex equipment."
   ]
  },
  {
   "cell_type": "markdown",
   "metadata": {},
   "source": [
    "### Evaluation Criteria\n",
    "In this project, we are focusing on a classification problem, rather than a prediction problem. We will classify the abalones into age ranges. This would be useful in determining whether they have grown fully and are ready to be sold.\n",
    "\n",
    "Considering that getting the age of abalones based on just their physical features is pretty difficult, we would expect our algorithm to perform well on average with atleast 85% accuracy for other third parties to be interested in it. This is because the physical characteristics depend on other factors like the amount of food they are getting, the environment they live in, etc\n",
    "\n",
    "Since the farmers would use this algorithm to predict whether the abalones are young, adult or old in order to decide whether to sell them and if it would be profitable for them, our algorithm should be able to classify correctly to give them good results.\n",
    "\n",
    "The model would need to be deployed as the Abalone farmers would be using it to predict the age range of the abalones whenever they want."
   ]
  },
  {
   "cell_type": "markdown",
   "metadata": {},
   "source": [
    "### Data Preparation"
   ]
  },
  {
   "cell_type": "code",
   "execution_count": 1,
   "metadata": {},
   "outputs": [],
   "source": [
    "import pandas as pd\n",
    "import numpy as np\n",
    "from scipy.special import expit\n",
    "from sklearn.model_selection import ShuffleSplit\n",
    "from sklearn.model_selection import train_test_split\n",
    "from sklearn.metrics import accuracy_score\n",
    "import seaborn as sns\n",
    "import matplotlib\n",
    "import matplotlib.pyplot as plt\n",
    "import timeit\n",
    "import csv\n",
    "import warnings\n",
    "warnings.filterwarnings(\"ignore\")\n",
    "from sklearn.utils import resample\n",
    "from sklearn.model_selection import StratifiedKFold"
   ]
  },
  {
   "cell_type": "code",
   "execution_count": 3,
   "metadata": {},
   "outputs": [
    {
     "data": {
      "text/html": [
       "<div>\n",
       "<table border=\"1\" class=\"dataframe\">\n",
       "  <thead>\n",
       "    <tr style=\"text-align: right;\">\n",
       "      <th></th>\n",
       "      <th>Sex</th>\n",
       "      <th>Length</th>\n",
       "      <th>Diameter</th>\n",
       "      <th>Height</th>\n",
       "      <th>Whole weight</th>\n",
       "      <th>Shucked weight</th>\n",
       "      <th>Viscera weight</th>\n",
       "      <th>Shell weight</th>\n",
       "      <th>Rings</th>\n",
       "    </tr>\n",
       "  </thead>\n",
       "  <tbody>\n",
       "    <tr>\n",
       "      <th>0</th>\n",
       "      <td>M</td>\n",
       "      <td>0.455</td>\n",
       "      <td>0.365</td>\n",
       "      <td>0.095</td>\n",
       "      <td>0.5140</td>\n",
       "      <td>0.2245</td>\n",
       "      <td>0.1010</td>\n",
       "      <td>0.150</td>\n",
       "      <td>15</td>\n",
       "    </tr>\n",
       "    <tr>\n",
       "      <th>1</th>\n",
       "      <td>M</td>\n",
       "      <td>0.350</td>\n",
       "      <td>0.265</td>\n",
       "      <td>0.090</td>\n",
       "      <td>0.2255</td>\n",
       "      <td>0.0995</td>\n",
       "      <td>0.0485</td>\n",
       "      <td>0.070</td>\n",
       "      <td>7</td>\n",
       "    </tr>\n",
       "    <tr>\n",
       "      <th>2</th>\n",
       "      <td>F</td>\n",
       "      <td>0.530</td>\n",
       "      <td>0.420</td>\n",
       "      <td>0.135</td>\n",
       "      <td>0.6770</td>\n",
       "      <td>0.2565</td>\n",
       "      <td>0.1415</td>\n",
       "      <td>0.210</td>\n",
       "      <td>9</td>\n",
       "    </tr>\n",
       "    <tr>\n",
       "      <th>3</th>\n",
       "      <td>M</td>\n",
       "      <td>0.440</td>\n",
       "      <td>0.365</td>\n",
       "      <td>0.125</td>\n",
       "      <td>0.5160</td>\n",
       "      <td>0.2155</td>\n",
       "      <td>0.1140</td>\n",
       "      <td>0.155</td>\n",
       "      <td>10</td>\n",
       "    </tr>\n",
       "    <tr>\n",
       "      <th>4</th>\n",
       "      <td>I</td>\n",
       "      <td>0.330</td>\n",
       "      <td>0.255</td>\n",
       "      <td>0.080</td>\n",
       "      <td>0.2050</td>\n",
       "      <td>0.0895</td>\n",
       "      <td>0.0395</td>\n",
       "      <td>0.055</td>\n",
       "      <td>7</td>\n",
       "    </tr>\n",
       "    <tr>\n",
       "      <th>5</th>\n",
       "      <td>I</td>\n",
       "      <td>0.425</td>\n",
       "      <td>0.300</td>\n",
       "      <td>0.095</td>\n",
       "      <td>0.3515</td>\n",
       "      <td>0.1410</td>\n",
       "      <td>0.0775</td>\n",
       "      <td>0.120</td>\n",
       "      <td>8</td>\n",
       "    </tr>\n",
       "    <tr>\n",
       "      <th>6</th>\n",
       "      <td>F</td>\n",
       "      <td>0.530</td>\n",
       "      <td>0.415</td>\n",
       "      <td>0.150</td>\n",
       "      <td>0.7775</td>\n",
       "      <td>0.2370</td>\n",
       "      <td>0.1415</td>\n",
       "      <td>0.330</td>\n",
       "      <td>20</td>\n",
       "    </tr>\n",
       "    <tr>\n",
       "      <th>7</th>\n",
       "      <td>F</td>\n",
       "      <td>0.545</td>\n",
       "      <td>0.425</td>\n",
       "      <td>0.125</td>\n",
       "      <td>0.7680</td>\n",
       "      <td>0.2940</td>\n",
       "      <td>0.1495</td>\n",
       "      <td>0.260</td>\n",
       "      <td>16</td>\n",
       "    </tr>\n",
       "    <tr>\n",
       "      <th>8</th>\n",
       "      <td>M</td>\n",
       "      <td>0.475</td>\n",
       "      <td>0.370</td>\n",
       "      <td>0.125</td>\n",
       "      <td>0.5095</td>\n",
       "      <td>0.2165</td>\n",
       "      <td>0.1125</td>\n",
       "      <td>0.165</td>\n",
       "      <td>9</td>\n",
       "    </tr>\n",
       "    <tr>\n",
       "      <th>9</th>\n",
       "      <td>F</td>\n",
       "      <td>0.550</td>\n",
       "      <td>0.440</td>\n",
       "      <td>0.150</td>\n",
       "      <td>0.8945</td>\n",
       "      <td>0.3145</td>\n",
       "      <td>0.1510</td>\n",
       "      <td>0.320</td>\n",
       "      <td>19</td>\n",
       "    </tr>\n",
       "  </tbody>\n",
       "</table>\n",
       "</div>"
      ],
      "text/plain": [
       "  Sex  Length  Diameter  Height  Whole weight  Shucked weight  Viscera weight  \\\n",
       "0   M   0.455     0.365   0.095        0.5140          0.2245          0.1010   \n",
       "1   M   0.350     0.265   0.090        0.2255          0.0995          0.0485   \n",
       "2   F   0.530     0.420   0.135        0.6770          0.2565          0.1415   \n",
       "3   M   0.440     0.365   0.125        0.5160          0.2155          0.1140   \n",
       "4   I   0.330     0.255   0.080        0.2050          0.0895          0.0395   \n",
       "5   I   0.425     0.300   0.095        0.3515          0.1410          0.0775   \n",
       "6   F   0.530     0.415   0.150        0.7775          0.2370          0.1415   \n",
       "7   F   0.545     0.425   0.125        0.7680          0.2940          0.1495   \n",
       "8   M   0.475     0.370   0.125        0.5095          0.2165          0.1125   \n",
       "9   F   0.550     0.440   0.150        0.8945          0.3145          0.1510   \n",
       "\n",
       "   Shell weight  Rings  \n",
       "0         0.150     15  \n",
       "1         0.070      7  \n",
       "2         0.210      9  \n",
       "3         0.155     10  \n",
       "4         0.055      7  \n",
       "5         0.120      8  \n",
       "6         0.330     20  \n",
       "7         0.260     16  \n",
       "8         0.165      9  \n",
       "9         0.320     19  "
      ]
     },
     "execution_count": 3,
     "metadata": {},
     "output_type": "execute_result"
    }
   ],
   "source": [
    "df = pd.read_csv('abalone.csv')\n",
    "df.head(10)"
   ]
  },
  {
   "cell_type": "code",
   "execution_count": 4,
   "metadata": {},
   "outputs": [
    {
     "data": {
      "text/plain": [
       "(4177, 9)"
      ]
     },
     "execution_count": 4,
     "metadata": {},
     "output_type": "execute_result"
    }
   ],
   "source": [
    "df.shape"
   ]
  },
  {
   "cell_type": "markdown",
   "metadata": {},
   "source": [
    "As seen above, our dataset consists of 9 variables. All the variables like sex, length, diameter, the height of the abalones, their whole weight, viscera weight, and shell weight are actually very important to determine the number of rings or age of the abalones. So we will use all these variables from our data."
   ]
  },
  {
   "cell_type": "code",
   "execution_count": 5,
   "metadata": {},
   "outputs": [
    {
     "data": {
      "text/plain": [
       "Sex               False\n",
       "Length            False\n",
       "Diameter          False\n",
       "Height             True\n",
       "Whole weight      False\n",
       "Shucked weight    False\n",
       "Viscera weight    False\n",
       "Shell weight      False\n",
       "Rings             False\n",
       "dtype: bool"
      ]
     },
     "execution_count": 5,
     "metadata": {},
     "output_type": "execute_result"
    }
   ],
   "source": [
    "# identify the columns with missing values\n",
    "cols = ['Sex','Length','Diameter','Height','Whole weight','Shucked weight','Viscera weight','Shell weight','Rings']\n",
    "df.fillna(0)\n",
    "(df[cols].astype(np.object) == 0).any()"
   ]
  },
  {
   "cell_type": "code",
   "execution_count": 6,
   "metadata": {},
   "outputs": [
    {
     "name": "stdout",
     "output_type": "stream",
     "text": [
      "2\n"
     ]
    }
   ],
   "source": [
    "count = 0\n",
    "count = [count + 1 for x in df['Height'] if x == 0]\n",
    "print(str(sum(count)))"
   ]
  },
  {
   "cell_type": "code",
   "execution_count": 7,
   "metadata": {},
   "outputs": [
    {
     "data": {
      "text/plain": [
       "(4175, 9)"
      ]
     },
     "execution_count": 7,
     "metadata": {},
     "output_type": "execute_result"
    }
   ],
   "source": [
    "df = df[(df[['Height']] != 0).all(axis=1)]\n",
    "x = df.shape[0]\n",
    "df.shape"
   ]
  },
  {
   "cell_type": "markdown",
   "metadata": {},
   "source": [
    "We have checked for variables that have any values of 0. There are just 2 such entries in the variable 'Height'. We delete those entries, as deleting just 2 entries won't hurt our classification task, which makes our data consisting of 4175 rows."
   ]
  },
  {
   "cell_type": "code",
   "execution_count": 8,
   "metadata": {},
   "outputs": [
    {
     "data": {
      "text/html": [
       "<div>\n",
       "<table border=\"1\" class=\"dataframe\">\n",
       "  <thead>\n",
       "    <tr style=\"text-align: right;\">\n",
       "      <th></th>\n",
       "      <th>Sex</th>\n",
       "      <th>Length</th>\n",
       "      <th>Diameter</th>\n",
       "      <th>Height</th>\n",
       "      <th>Whole weight</th>\n",
       "      <th>Shucked weight</th>\n",
       "      <th>Viscera weight</th>\n",
       "      <th>Shell weight</th>\n",
       "      <th>Rings</th>\n",
       "      <th>Classes</th>\n",
       "      <th>Target</th>\n",
       "    </tr>\n",
       "  </thead>\n",
       "  <tbody>\n",
       "    <tr>\n",
       "      <th>0</th>\n",
       "      <td>M</td>\n",
       "      <td>0.455</td>\n",
       "      <td>0.365</td>\n",
       "      <td>0.095</td>\n",
       "      <td>0.5140</td>\n",
       "      <td>0.2245</td>\n",
       "      <td>0.1010</td>\n",
       "      <td>0.150</td>\n",
       "      <td>15</td>\n",
       "      <td>Old</td>\n",
       "      <td>1</td>\n",
       "    </tr>\n",
       "    <tr>\n",
       "      <th>1</th>\n",
       "      <td>M</td>\n",
       "      <td>0.350</td>\n",
       "      <td>0.265</td>\n",
       "      <td>0.090</td>\n",
       "      <td>0.2255</td>\n",
       "      <td>0.0995</td>\n",
       "      <td>0.0485</td>\n",
       "      <td>0.070</td>\n",
       "      <td>7</td>\n",
       "      <td>Young</td>\n",
       "      <td>2</td>\n",
       "    </tr>\n",
       "    <tr>\n",
       "      <th>2</th>\n",
       "      <td>F</td>\n",
       "      <td>0.530</td>\n",
       "      <td>0.420</td>\n",
       "      <td>0.135</td>\n",
       "      <td>0.6770</td>\n",
       "      <td>0.2565</td>\n",
       "      <td>0.1415</td>\n",
       "      <td>0.210</td>\n",
       "      <td>9</td>\n",
       "      <td>Adult</td>\n",
       "      <td>0</td>\n",
       "    </tr>\n",
       "    <tr>\n",
       "      <th>3</th>\n",
       "      <td>M</td>\n",
       "      <td>0.440</td>\n",
       "      <td>0.365</td>\n",
       "      <td>0.125</td>\n",
       "      <td>0.5160</td>\n",
       "      <td>0.2155</td>\n",
       "      <td>0.1140</td>\n",
       "      <td>0.155</td>\n",
       "      <td>10</td>\n",
       "      <td>Adult</td>\n",
       "      <td>0</td>\n",
       "    </tr>\n",
       "    <tr>\n",
       "      <th>4</th>\n",
       "      <td>I</td>\n",
       "      <td>0.330</td>\n",
       "      <td>0.255</td>\n",
       "      <td>0.080</td>\n",
       "      <td>0.2050</td>\n",
       "      <td>0.0895</td>\n",
       "      <td>0.0395</td>\n",
       "      <td>0.055</td>\n",
       "      <td>7</td>\n",
       "      <td>Young</td>\n",
       "      <td>2</td>\n",
       "    </tr>\n",
       "    <tr>\n",
       "      <th>5</th>\n",
       "      <td>I</td>\n",
       "      <td>0.425</td>\n",
       "      <td>0.300</td>\n",
       "      <td>0.095</td>\n",
       "      <td>0.3515</td>\n",
       "      <td>0.1410</td>\n",
       "      <td>0.0775</td>\n",
       "      <td>0.120</td>\n",
       "      <td>8</td>\n",
       "      <td>Adult</td>\n",
       "      <td>0</td>\n",
       "    </tr>\n",
       "    <tr>\n",
       "      <th>6</th>\n",
       "      <td>F</td>\n",
       "      <td>0.530</td>\n",
       "      <td>0.415</td>\n",
       "      <td>0.150</td>\n",
       "      <td>0.7775</td>\n",
       "      <td>0.2370</td>\n",
       "      <td>0.1415</td>\n",
       "      <td>0.330</td>\n",
       "      <td>20</td>\n",
       "      <td>Old</td>\n",
       "      <td>1</td>\n",
       "    </tr>\n",
       "    <tr>\n",
       "      <th>7</th>\n",
       "      <td>F</td>\n",
       "      <td>0.545</td>\n",
       "      <td>0.425</td>\n",
       "      <td>0.125</td>\n",
       "      <td>0.7680</td>\n",
       "      <td>0.2940</td>\n",
       "      <td>0.1495</td>\n",
       "      <td>0.260</td>\n",
       "      <td>16</td>\n",
       "      <td>Old</td>\n",
       "      <td>1</td>\n",
       "    </tr>\n",
       "    <tr>\n",
       "      <th>8</th>\n",
       "      <td>M</td>\n",
       "      <td>0.475</td>\n",
       "      <td>0.370</td>\n",
       "      <td>0.125</td>\n",
       "      <td>0.5095</td>\n",
       "      <td>0.2165</td>\n",
       "      <td>0.1125</td>\n",
       "      <td>0.165</td>\n",
       "      <td>9</td>\n",
       "      <td>Adult</td>\n",
       "      <td>0</td>\n",
       "    </tr>\n",
       "    <tr>\n",
       "      <th>9</th>\n",
       "      <td>F</td>\n",
       "      <td>0.550</td>\n",
       "      <td>0.440</td>\n",
       "      <td>0.150</td>\n",
       "      <td>0.8945</td>\n",
       "      <td>0.3145</td>\n",
       "      <td>0.1510</td>\n",
       "      <td>0.320</td>\n",
       "      <td>19</td>\n",
       "      <td>Old</td>\n",
       "      <td>1</td>\n",
       "    </tr>\n",
       "  </tbody>\n",
       "</table>\n",
       "</div>"
      ],
      "text/plain": [
       "  Sex  Length  Diameter  Height  Whole weight  Shucked weight  Viscera weight  \\\n",
       "0   M   0.455     0.365   0.095        0.5140          0.2245          0.1010   \n",
       "1   M   0.350     0.265   0.090        0.2255          0.0995          0.0485   \n",
       "2   F   0.530     0.420   0.135        0.6770          0.2565          0.1415   \n",
       "3   M   0.440     0.365   0.125        0.5160          0.2155          0.1140   \n",
       "4   I   0.330     0.255   0.080        0.2050          0.0895          0.0395   \n",
       "5   I   0.425     0.300   0.095        0.3515          0.1410          0.0775   \n",
       "6   F   0.530     0.415   0.150        0.7775          0.2370          0.1415   \n",
       "7   F   0.545     0.425   0.125        0.7680          0.2940          0.1495   \n",
       "8   M   0.475     0.370   0.125        0.5095          0.2165          0.1125   \n",
       "9   F   0.550     0.440   0.150        0.8945          0.3145          0.1510   \n",
       "\n",
       "   Shell weight  Rings Classes  Target  \n",
       "0         0.150     15     Old       1  \n",
       "1         0.070      7   Young       2  \n",
       "2         0.210      9   Adult       0  \n",
       "3         0.155     10   Adult       0  \n",
       "4         0.055      7   Young       2  \n",
       "5         0.120      8   Adult       0  \n",
       "6         0.330     20     Old       1  \n",
       "7         0.260     16     Old       1  \n",
       "8         0.165      9   Adult       0  \n",
       "9         0.320     19     Old       1  "
      ]
     },
     "execution_count": 8,
     "metadata": {},
     "output_type": "execute_result"
    }
   ],
   "source": [
    "Classes = []\n",
    "target = []\n",
    "for i in df.Rings:\n",
    "    if i<=7:\n",
    "        Classes.append('Young')\n",
    "    elif i>7 and i<12:\n",
    "        Classes.append('Adult')\n",
    "    else:\n",
    "        Classes.append('Old')\n",
    "\n",
    "df['Classes'] = np.array(Classes)\n",
    "\n",
    "for i in df.Classes:\n",
    "    if i == 'Young':\n",
    "        target.append(2)\n",
    "    elif i == 'Old':\n",
    "        target.append(1)\n",
    "    else:\n",
    "        target.append(0)\n",
    "\n",
    "df['Target'] = np.array(target)\n",
    "df.head(10)"
   ]
  },
  {
   "cell_type": "markdown",
   "metadata": {},
   "source": [
    "The variable 'Rings' from our dataset is actually the variable that we will be used as the label for our classification task. We have divided the dataset into three classes based on the number of Rings and created a new variable 'Classes' which we will use to store classes as young, adult, and old. We then create another variable called 'Target' to convert the classes into Integers for the purpose of using it in the model as labels."
   ]
  },
  {
   "cell_type": "code",
   "execution_count": 9,
   "metadata": {},
   "outputs": [],
   "source": [
    "tmp_df = pd.get_dummies(df.Sex,prefix='Sex')"
   ]
  },
  {
   "cell_type": "code",
   "execution_count": 10,
   "metadata": {},
   "outputs": [
    {
     "name": "stdout",
     "output_type": "stream",
     "text": [
      "   Sex_F  Sex_I  Sex_M  Diameter  Height  Whole weight  Shucked weight  \\\n",
      "0      0      0      1     0.365   0.095        0.5140          0.2245   \n",
      "1      0      0      1     0.265   0.090        0.2255          0.0995   \n",
      "2      1      0      0     0.420   0.135        0.6770          0.2565   \n",
      "3      0      0      1     0.365   0.125        0.5160          0.2155   \n",
      "4      0      1      0     0.255   0.080        0.2050          0.0895   \n",
      "5      0      1      0     0.300   0.095        0.3515          0.1410   \n",
      "6      1      0      0     0.415   0.150        0.7775          0.2370   \n",
      "7      1      0      0     0.425   0.125        0.7680          0.2940   \n",
      "8      0      0      1     0.370   0.125        0.5095          0.2165   \n",
      "9      1      0      0     0.440   0.150        0.8945          0.3145   \n",
      "\n",
      "   Viscera weight  Shell weight  Rings Classes  Target  \n",
      "0          0.1010         0.150     15     Old       1  \n",
      "1          0.0485         0.070      7   Young       2  \n",
      "2          0.1415         0.210      9   Adult       0  \n",
      "3          0.1140         0.155     10   Adult       0  \n",
      "4          0.0395         0.055      7   Young       2  \n",
      "5          0.0775         0.120      8   Adult       0  \n",
      "6          0.1415         0.330     20     Old       1  \n",
      "7          0.1495         0.260     16     Old       1  \n",
      "8          0.1125         0.165      9   Adult       0  \n",
      "9          0.1510         0.320     19     Old       1  \n",
      "(4175, 12)\n"
     ]
    }
   ],
   "source": [
    "if 'Sex' in df:\n",
    "    del df['Sex']\n",
    "df = pd.concat((tmp_df,df.iloc[:,[1,2,3,4,5,6,7,8,9]]),axis = 1)\n",
    "\n",
    "print(df.head(10))\n",
    "print(df.shape)"
   ]
  },
  {
   "cell_type": "markdown",
   "metadata": {},
   "source": [
    "Our dataset has one categorical variable 'Sex' which has three categories: male, female and infant. We one-hot-encoded this variable as there are three categories in it."
   ]
  },
  {
   "cell_type": "code",
   "execution_count": 11,
   "metadata": {},
   "outputs": [
    {
     "data": {
      "text/plain": [
       "Text(0,0.5,'# of instances')"
      ]
     },
     "execution_count": 11,
     "metadata": {},
     "output_type": "execute_result"
    },
    {
     "data": {
      "image/png": "[encoded data removed]",
      "text/plain": [
       "<matplotlib.figure.Figure at 0x7ffbef3784a8>"
      ]
     },
     "metadata": {},
     "output_type": "display_data"
    }
   ],
   "source": [
    "from matplotlib import pyplot as plt\n",
    "%matplotlib inline\n",
    "plt.style.use('ggplot')\n",
    "features=[i for i in df if i not in ['Rings','Target']]\n",
    "df_features=df[features]\n",
    "X = np.array(df_features.loc[:])\n",
    "y = df.Target.values\n",
    "\n",
    "count = {}\n",
    "for i in y:\n",
    "    if i not in count:\n",
    "        count[i] = 1\n",
    "    else:\n",
    "        count[i] +=1\n",
    "l = []\n",
    "for i in range (3):\n",
    "    l.append(count[i])\n",
    "count = l\n",
    "\n",
    "x = ['class2','class3','class1']\n",
    "\n",
    "x_pos = [i for i, _ in enumerate(x) ]\n",
    "plt.bar(x, count, color='orange')\n",
    "plt.xticks(x_pos, x)\n",
    "plt.xlabel(\"Classes\")\n",
    "plt.ylabel(\"# of instances\")"
   ]
  },
  {
   "cell_type": "code",
   "execution_count": 12,
   "metadata": {},
   "outputs": [
    {
     "name": "stdout",
     "output_type": "stream",
     "text": [
      "   Sex_F  Sex_I  Sex_M  Diameter  Height  Whole weight  Shucked weight  \\\n",
      "0      0      0      1     0.365   0.095        0.5140          0.2245   \n",
      "1      0      0      1     0.265   0.090        0.2255          0.0995   \n",
      "2      1      0      0     0.420   0.135        0.6770          0.2565   \n",
      "3      0      0      1     0.365   0.125        0.5160          0.2155   \n",
      "4      0      1      0     0.255   0.080        0.2050          0.0895   \n",
      "\n",
      "   Viscera weight  Shell weight  \n",
      "0          0.1010         0.150  \n",
      "1          0.0485         0.070  \n",
      "2          0.1415         0.210  \n",
      "3          0.1140         0.155  \n",
      "4          0.0395         0.055  \n",
      "4175\n"
     ]
    }
   ],
   "source": [
    "X = df.iloc[:,0:9]\n",
    "print(X.head(5))\n",
    "y = df.iloc[:,-1]\n",
    "print(len(y))"
   ]
  },
  {
   "cell_type": "code",
   "execution_count": 13,
   "metadata": {},
   "outputs": [
    {
     "name": "stdout",
     "output_type": "stream",
     "text": [
      "   Sex_F  Sex_I  Sex_M  Diameter  Height  Whole weight  Shucked weight  \\\n",
      "0      0      0      1     0.365   0.095        0.5140          0.2245   \n",
      "1      0      0      1     0.265   0.090        0.2255          0.0995   \n",
      "2      1      0      0     0.420   0.135        0.6770          0.2565   \n",
      "3      0      0      1     0.365   0.125        0.5160          0.2155   \n",
      "4      0      1      0     0.255   0.080        0.2050          0.0895   \n",
      "\n",
      "   Viscera weight  Shell weight  \n",
      "0          0.1010         0.150  \n",
      "1          0.0485         0.070  \n",
      "2          0.1415         0.210  \n",
      "3          0.1140         0.155  \n",
      "4          0.0395         0.055  \n"
     ]
    }
   ],
   "source": [
    "from sklearn.preprocessing import StandardScaler\n",
    "columns = ['Sex_F','Sex_I','Sex_M','Diameter','Height','Whole weight','Shucked weight','Viscera weight','Shell weight']\n",
    "data = X[columns]\n",
    "print(data.head(5))"
   ]
  },
  {
   "cell_type": "code",
   "execution_count": 14,
   "metadata": {},
   "outputs": [
    {
     "name": "stdout",
     "output_type": "stream",
     "text": [
      "[[-0.67506909 -0.68750501  1.31618002 ... -0.60819984 -0.72680916\n",
      "  -0.63819465]\n",
      " [-0.67506909 -0.68750501  1.31618002 ... -1.17144626 -1.20585737\n",
      "  -1.21292621]\n",
      " [ 1.48132987 -0.68750501 -0.75977449 ... -0.46400875 -0.35725768\n",
      "  -0.20714599]\n",
      " ...\n",
      " [-0.67506909 -0.68750501  1.31618002 ...  0.74809757  0.97495258\n",
      "   0.49690017]\n",
      " [ 1.48132987 -0.68750501 -0.75977449 ...  0.77288041  0.73314729\n",
      "   0.41069044]\n",
      " [-0.67506909 -0.68750501  1.31618002 ...  2.64060557  1.78705336\n",
      "   1.84033518]]\n"
     ]
    }
   ],
   "source": [
    "scaler = StandardScaler()\n",
    "scaled_data= scaler.fit_transform(X)\n",
    "print(scaled_data)\n",
    "#print(X)"
   ]
  },
  {
   "cell_type": "code",
   "execution_count": 15,
   "metadata": {},
   "outputs": [],
   "source": [
    "df = pd.DataFrame(data = scaled_data[:,:],columns = columns)\n",
    "X = df.iloc[:,0:9]"
   ]
  },
  {
   "cell_type": "markdown",
   "metadata": {},
   "source": [
    "We will not be doing any dimensionality reduction on the dataset as we just have 9 features and we want to get as accurate prediction as possible.<br>We will be using following variables from our dataset for the final classification task:<br>\n",
    "1.Sex - this is one hot encoded and is represented by three variables now instead of one.<br>\n",
    "2.Diameter<br>\n",
    "3.Height<br>\n",
    "4.Whole weight<br>\n",
    "5.Shucked weight<br>\n",
    "6.Viscera weight<br>\n",
    "7.Shell weight <br>\n",
    "8.Instead of Rings we will be using Target variable for labelling each of our data instances."
   ]
  },
  {
   "cell_type": "markdown",
   "metadata": {},
   "source": [
    "## Evaluation"
   ]
  },
  {
   "cell_type": "markdown",
   "metadata": {},
   "source": [
    "### Metric Selection"
   ]
  },
  {
   "cell_type": "markdown",
   "metadata": {},
   "source": [
    "Our classification task includes classifying abalones into different age ranges so that abalone farmers can decide if they have grown fully and are ready to be sold. In this case, it is important the algorithm does not classify young or adult abalones as old because that would make the farmers sell them at higher prices to the customers. But since the abalones won't be fully grown in this case, they won't provide the quantity of meat worth the price paid. If customers do not get worth for the price they are paying, they might feel cheated and thus the farmers would lose those customers in the future.<br>\n",
    "Thus, we would need high precision, which is lower false positives, for our model which we can calculate from the confusion matrix.\n",
    "\n",
    "Secondly, if we predict the abalones which are actually old as young or adult, the farmers would sell them for a lower price than their worth. Thus, farmers would suffer losses in such cases. To fix this, we would need high recall so that we have higher true positives and lower false negatives.\n",
    "\n",
    "Comparing both the cases presented above, recall is of higher significance for our task as the second case directly impacts the profits of the farmers who will be using this prediction algorithm. But we will consider both precision and recall as we want to keep track of false positives and negatives too.\n",
    "\n",
    "In order to use both precision and recall as a metric, we will use f1-score. F1-score is actually a weighted average of precision and recall. Therefore it takes both False positives and false negatives into account. It is usually only for binary classes whereas we have 3 classes in our dataset. A good solution to this is to aggregate the score over each class. This can be done by doing either f1 micro metric which calculates precision and recall of individual classes and then uses them together to calculate the f1 score or macro-metric which calculates the f1 score of each class and then uses it to get the f1 score of all the classes and evaluate the overall performance of an algorithm. \n",
    "\n",
    "$$F1_{micro} = 2\\times \\frac {PREC_1 \\times REC_1 + ... + PREC_n \\times REC_n} {PREC_1 + REC_1 +  ... + PREC_n + REC_n} $$\n",
    "\n",
    "$$F1_{macro} = 2\\times \\frac {F1_1 + F1_2 + ... F1_n} {n} $$"
   ]
  },
  {
   "cell_type": "markdown",
   "metadata": {},
   "source": [
    "As seen in the above bar chart, the number of instances in each class is not the same and there is a lot of difference in these numbers. Class 1 alone consists of around 56.9% data instances. If we use accuracy as a metric and our algorithm just predicts class 1 every time, we would still get 56.9% accuracy. Thus, it is clear that using accuracy as a metric for classification is not a good idea for this dataset. We also want to keep track of false positives and false negatives which is not possible by just looking at the accuracy. Thus, we think using the f1 score as a metric is most beneficial in this case."
   ]
  },
  {
   "cell_type": "markdown",
   "metadata": {},
   "source": [
    "### Cross Validation Method"
   ]
  },
  {
   "cell_type": "markdown",
   "metadata": {},
   "source": [
    "Cross-validation is used for the evaluation of the model. For the development of a good machine learning model, it is essential that we have a realistic estimate of how well the model would perform on new data. This is the reason we use cross-validation. There are various methods of dividing our data into training and testing sets, like train test split, k-fold cross-validation, and stratified k-fold cross-validation. Train test split just splits the data randomly into training and testing, k-fold splits the data into k folds and uses one of those folds for testing and the rest for training each time while stratified cross-validation splits the data into k-folds but makes sure that the percentage of data in each class is retained in these folds.\n",
    "\n",
    "Our dataset has 3 classes which have different number of instances. Class 2 and 3 have more or less similar number of instances so we can say that these two classes are balanced in terms of data, but class 1 has around 2.5 times more instances than the other two classes. Thus we have imbalanced classes in this dataset. In this case, using k-fold cross-validation can be an option but that would split the data into k folds randomly. Thus, it can be quite possible that some of the folds have considerably more data from class 1, some data from class 2 and very few data from class 3 or it can even happen that it does not have any data from one of the classes.\n",
    "\n",
    "The solution to this is we use stratified cross-validation. Stratified cross-validation ensures that each fold has the same percentage or proportion of the samples of each class as the complete dataset. Thus, our cross-validation will be able to realistically mirror how the algorithm works.\n",
    "<img src=\"files/cv.png\">"
   ]
  },
  {
   "cell_type": "markdown",
   "metadata": {},
   "source": [
    "## Modeling"
   ]
  },
  {
   "cell_type": "code",
   "execution_count": 16,
   "metadata": {},
   "outputs": [
    {
     "name": "stdout",
     "output_type": "stream",
     "text": [
      "(4175, 9)\n",
      "(4175,)\n",
      "-3.5575778063663615 23.739381284064514\n",
      "[0 1 2]\n",
      "(3340, 9)\n",
      "(3340,)\n",
      "(835, 9)\n",
      "(835,)\n"
     ]
    }
   ],
   "source": [
    "from sklearn.metrics import accuracy_score\n",
    "from sklearn.preprocessing import StandardScaler\n",
    "import numpy as np\n",
    "\n",
    "y=np.array(y)\n",
    "y = np.hstack(y)\n",
    "y = y.astype('int32')\n",
    "X = np.array(X)\n",
    "\n",
    "print(X.shape)\n",
    "print(y.shape)\n",
    "print(np.min(X),np.max(X))\n",
    "print(np.unique(y))\n",
    "\n",
    "from sklearn.model_selection import train_test_split\n",
    "\n",
    "X_train, X_test, y_train, y_test = train_test_split(X,y,test_size = 0.2)\n",
    "print(X_train.shape)\n",
    "print(y_train.shape)\n",
    "print(X_test.shape)\n",
    "print(y_test.shape)"
   ]
  },
  {
   "cell_type": "code",
   "execution_count": 17,
   "metadata": {},
   "outputs": [],
   "source": [
    "import numpy as np\n",
    "from scipy.special import expit\n",
    "import sys\n",
    "import pandas as pd\n",
    "from sklearn.metrics import accuracy_score\n",
    "from sklearn.base import BaseEstimator, ClassifierMixin\n",
    "\n",
    "# start with a simple base classifier, which can't be fit or predicted\n",
    "# it only has internal classes to be used by classes that will subclass it\n",
    "class TwoLayerPerceptronBase(BaseEstimator, ClassifierMixin ):\n",
    "    def __init__(self, n_hidden=(30, 50),\n",
    "                 C=0.0, epochs=500, eta=0.001, random_state=None, phi = 'sigmoid', cost = 'mse'):\n",
    "        np.random.seed(random_state)\n",
    "        self.n_hidden = n_hidden\n",
    "        self.l2_C = C\n",
    "        self.epochs = epochs\n",
    "        self.eta = eta\n",
    "        self.n_layers = len(self.n_hidden) # number of layers depends on the lenght of the number of hidden neutrons. \n",
    "        self.phi = phi\n",
    "        self.phi_dict = {'sigmoid':self._sigmoid,\n",
    "                         'linear':self._linear,\n",
    "                        'ReLU':self._ReLU,\n",
    "                        'SiLU':self._SiLU}\n",
    "        self.cost = cost\n",
    "        \n",
    "    @staticmethod\n",
    "    def _encode_labels(y):\n",
    "        \"\"\"Encode labels into one-hot representation\"\"\"\n",
    "        onehot = pd.get_dummies(y).values.T\n",
    "            \n",
    "        return onehot\n",
    "\n",
    "    def _initialize_weights(self):\n",
    "        \"\"\"Initialize weights with small random numbers.\"\"\"\n",
    "        Weights = []    # this list stores all weights \n",
    "        \n",
    "        \n",
    "        s, n = self.n_hidden[0], self.n_features_ + 1    # dimension for the first weight\n",
    "        for i in range (self.n_layers):       # calculate the hidden layer weights, loop stops at the n_layer-1\n",
    "            W1_num_elems = n*s        # first iteration is a column vector (N+1 by S1)       \n",
    "            W1 = np.random.uniform(-1.0, 1.0, size=W1_num_elems) \n",
    "            W1 = W1.reshape(s, n)      # reshape to be W\n",
    "            Weights.append(W1)\n",
    "            if i == self.n_layers-1:      # stopping criteria\n",
    "                break\n",
    "            s, n = self.n_hidden[i+1], self.n_hidden[i]+1      # uptade for the next weights\n",
    "            \n",
    "        \n",
    "        W2_num_elems = (self.n_hidden[-1] + 1)*self.n_output_ \n",
    "        W2 = np.random.uniform(-1.0, 1.0, size=W2_num_elems)\n",
    "        W2 = W2.reshape(self.n_output_, self.n_hidden[-1] + 1)\n",
    "        Weights.append(W2)\n",
    "        \n",
    "        return Weights\n",
    "    \n",
    "            \n",
    "    @staticmethod\n",
    "    def _sigmoid(z):\n",
    "        \"\"\"Use scipy.special.expit to avoid overflow\"\"\"\n",
    "        # 1.0 / (1.0 + np.exp(-z))\n",
    "        return expit(z)\n",
    "    \n",
    "    @staticmethod\n",
    "    def _linear(z):\n",
    "        return z\n",
    "    \n",
    "    @staticmethod\n",
    "    def _ReLU(z):\n",
    "        res = np.sign(z)\n",
    "        res[z <= 0] = 0\n",
    "        return res*z\n",
    "    \n",
    "    @staticmethod\n",
    "    def _SiLU(z):\n",
    "        return z*expit(z)\n",
    "\n",
    "    \n",
    "    @staticmethod\n",
    "    def _add_bias_unit(X, how='column'):\n",
    "        \"\"\"Add bias unit (column or row of 1s) to array at index 0\"\"\"\n",
    "        if how == 'column':\n",
    "            ones = np.ones((X.shape[0], 1))\n",
    "            X_new = np.hstack((ones, X))\n",
    "        elif how == 'row':\n",
    "            ones = np.ones((1, X.shape[1]))\n",
    "            X_new = np.vstack((ones, X))\n",
    "        return X_new\n",
    "    \n",
    "    @staticmethod\n",
    "    def _L2_reg(lambda_, Weights):\n",
    "        \"\"\"Compute L2-regularization cost\"\"\"\n",
    "        # only compute for non-bias terms\n",
    "        k = 0.\n",
    "        for i in range (len(Weights)):\n",
    "            k += np.mean(Weights[i][:, 1:] ** 2)\n",
    "        return (lambda_/2.0) * np.sqrt(k)\n",
    "    \n",
    "    def _cost_fun(self,A3,Y_enc,Weights):\n",
    "        '''Get the objective function value'''\n",
    "        if self.cost == 'mse':\n",
    "            cost_fun = np.mean((Y_enc - A3)**2)\n",
    "        elif self.cost == 'entropy':\n",
    "            cost_fun = -np.mean(np.nan_to_num((Y_enc*np.log(A3)+(1-Y_enc)*np.log(1-A3))))\n",
    "        else:\n",
    "            raise Exception('No cost function named '+self.cost+' was found!!')\n",
    "        L2_term = self._L2_reg(self.l2_C, Weights)\n",
    "        return cost_fun + L2_term\n",
    "    \n"
   ]
  },
  {
   "cell_type": "code",
   "execution_count": 18,
   "metadata": {},
   "outputs": [],
   "source": [
    "class TwoLayerPerceptron(TwoLayerPerceptronBase):\n",
    "    def _feedforward(self, X, Weights):\n",
    "        \"\"\"Compute feedforward step\n",
    "        -----------\n",
    "        X : Input layer with original features.\n",
    "        W1: Weight matrix for input layer -> hidden layer.\n",
    "        W2: Weight matrix for hidden layer -> output layer.\n",
    "        ----------\n",
    "        a1-a3 : activations into layer (or output layer)\n",
    "        z1-z2 : layer inputs \n",
    "\n",
    "        \"\"\"\n",
    "        A,Z = [],[]\n",
    "        temp = X.T\n",
    "        for i in range (len(Weights)):      # storing values in A\n",
    "            A1 = self._add_bias_unit(temp, how='row')\n",
    "            Z1 = Weights[i] @ A1\n",
    "            A.append(A1)\n",
    "            Z.append(Z1)\n",
    "            if i == len(Weights)-1:\n",
    "                continue\n",
    "            A_next = self.phi_dict[self.phi](Z1)\n",
    "            temp = A_next\n",
    "            \n",
    "        A.append(self.phi_dict['sigmoid'](Z1))\n",
    "        \n",
    "        return A, Z\n",
    "    \n",
    "    def _phi_function(self,a):\n",
    "        if self.phi == 'sigmoid':\n",
    "            return a*(1-a)\n",
    "        elif self.phi == 'linear':\n",
    "            return 1\n",
    "        elif self.phi == 'ReLU':\n",
    "            res = np.sign(a)\n",
    "            res[a <=0 ] = 0\n",
    "            return res\n",
    "        elif self.phi == 'SiLU':\n",
    "            return a + expit(a)*(1-a)\n",
    "        else:\n",
    "            raise Exception('No phi function named '+self.phi+' was found!!')\n",
    "    \n",
    "    def _get_gradient(self, A, Z, Y_enc, Weights):\n",
    "        \"\"\" Compute gradient step using backpropagation.\n",
    "        \"\"\"\n",
    "        # backpropagation\n",
    "        grad = [np.zeros(i.shape) for i in Weights] \n",
    "        \n",
    "        # for each instance's activations \n",
    "        lis = [x.T for x in A]+[Y_enc.T]    \n",
    "        \n",
    "        \n",
    "        for a in zip(*lis):\n",
    "            #print (a)\n",
    "            a1,y1 = a[:-1],a[-1]       # first iteration gets output a(L)\n",
    "            if self.cost == 'mse':\n",
    "                dJ_dz2 = -2*(y1 - a1[-1])*self._phi_function(a1[-1])       #return derivative of a(L)\n",
    "            elif self.cost == 'entropy':\n",
    "                dJ_dz2 = -((((y/a1[-1])* self._phi_function(a1[-1])) + (((1-y)/(1-a1[-1])) * self._phi_function(-a1[-1])))) \n",
    "            else:\n",
    "                raise Exception('No cost function named '+self.cost+' was found!!')\n",
    "           \n",
    "            grad[-1] += dJ_dz2[:,np.newaxis]  @ a1[-2][np.newaxis,:]      # Gradient used to update the outlayer weight\n",
    "            \n",
    "            \n",
    "            for i in range (len(Weights)-1):         # calculate hidden layer gradient\n",
    "                dJ_dz1 = dJ_dz2 @ Weights[-(i+1)] @ np.diag(self._phi_function(a1[-(i+2)]))\n",
    "                         \n",
    "                grad[-(i+2)] += dJ_dz1[1:,np.newaxis] @ a1[-(i+3)][np.newaxis,:] \n",
    "                \n",
    "                dJ_dz2 = dJ_dz1[1:,np.newaxis].reshape((Weights[-(i+2)].shape[0]))\n",
    "        \n",
    "        # don't incorporate bias term in the z1 gradient \n",
    "        # (its added in a2 from another layer)\n",
    "           \n",
    "        # regularize weights that are not bias terms\n",
    "        for i in range (len(grad)):\n",
    "            grad[i][:, 1:] += (Weights[i][:, 1:] * self.l2_C)\n",
    "\n",
    "        return grad\n",
    "    \n",
    "    def predict(self, X):\n",
    "        \"\"\"Predict class labels\"\"\"\n",
    "        all_A, all_Z = self._feedforward(X, self.Weights)\n",
    "        y_pred = np.argmax(all_A[-1], axis=0)\n",
    "        return y_pred\n",
    "    \n",
    "    \n",
    "    def fit(self, X, y, print_progress=False, XY_test=None):\n",
    "        \"\"\" Learn weights from training data.\"\"\"\n",
    "        \n",
    "        X_data, y_data = X.copy(), y.copy()\n",
    "        Y_enc = self._encode_labels(y)\n",
    "        \n",
    "        # init weights and setup matrices\n",
    "        self.n_features_ = X_data.shape[1]\n",
    "        self.n_output_ = Y_enc.shape[0]\n",
    "        self.Weights = self._initialize_weights()\n",
    "\n",
    "        self.cost_ = []\n",
    "        self.score_ = []\n",
    "        self.score_.append(accuracy_score(y_data,self.predict(X_data)))\n",
    "        if XY_test is not None:\n",
    "            X_test = XY_test[0].copy()\n",
    "            y_test = XY_test[1].copy()\n",
    "            self.val_score_ = []\n",
    "            self.val_score_.append(accuracy_score(y_test,self.predict(X_test)))\n",
    "        for i in range(self.epochs):\n",
    "\n",
    "            if print_progress>0 and (i+1)%print_progress==0:\n",
    "                sys.stderr.write('\\rEpoch: %d/%d' % (i+1, self.epochs))\n",
    "                sys.stderr.flush()\n",
    "\n",
    "            # feedforward all instances\n",
    "            A, Z = self._feedforward(X_data,self.Weights)\n",
    "            #print (A[-1][0])\n",
    "            cost = self._cost_fun(A[-1],Y_enc,self.Weights)\n",
    "            self.cost_.append(cost)\n",
    "\n",
    "            # compute gradient via backpropagation\n",
    "            grad = self._get_gradient(A = A, Z = Z, Y_enc=Y_enc,\n",
    "                                              Weights=self.Weights)\n",
    "            \n",
    "            for i in range (len(self.Weights)):\n",
    "                self.Weights[i] -= self.eta * grad[i]\n",
    "            \n",
    "        return self\n",
    "    \n"
   ]
  },
  {
   "cell_type": "code",
   "execution_count": 19,
   "metadata": {},
   "outputs": [],
   "source": [
    "class TwoLayerPerceptronVectorized(TwoLayerPerceptron):\n",
    "    # just need a different gradient calculation\n",
    "    def _get_gradient(self, A, Z, Y_enc, Weights):\n",
    "        \"\"\" Compute gradient step using backpropagation.\n",
    "        \"\"\"\n",
    "        grad = [np.zeros(i.shape) for i in Weights]\n",
    "        \n",
    "        # vectorized backpropagation \n",
    "        \n",
    "        if self.cost == 'mse':\n",
    "                V2 = -2*(Y_enc - A[-1])*self._phi_function(A[-1])\n",
    "        elif self.cost == 'entropy':\n",
    "                V2 = (A[-1]-Y_enc)\n",
    "        else:\n",
    "                raise Exception('No cost function named '+self.cost+' was found!!')\n",
    "        \n",
    "        grad[-1] = V2 @ A[-2].T\n",
    "        for i in range (self.n_layers):\n",
    "            V1 = (self._phi_function(A[-(i+2)]))*(Weights[-(i+1)].T @ V2)\n",
    "            grad[-(i+2)] = V1[1:,:] @ A[-(i+3)].T\n",
    "            V2 = V1[1:,:]         #update V2\n",
    "            \n",
    "        for i in range (len(grad)):\n",
    "            # regularize weights that are not bias terms\n",
    "            grad[i][:, 1:] += Weights[i][:, 1:] * self.l2_C\n",
    "\n",
    "        return grad\n",
    "    "
   ]
  },
  {
   "cell_type": "code",
   "execution_count": 20,
   "metadata": {},
   "outputs": [],
   "source": [
    "params = { 'n_hidden':(30,50), \n",
    "         'C':0.1, 'epochs':200, 'eta':0.00001,'random_state':1, 'phi' : 'linear'}"
   ]
  },
  {
   "cell_type": "code",
   "execution_count": 21,
   "metadata": {},
   "outputs": [
    {
     "name": "stderr",
     "output_type": "stream",
     "text": [
      "Epoch: 1000/1000"
     ]
    },
    {
     "name": "stdout",
     "output_type": "stream",
     "text": [
      "Accuracy: 0.7161676646706587\n",
      "Wall time: 9.51 s\n"
     ]
    }
   ],
   "source": [
    "%%time\n",
    "params['epochs'] = 1000\n",
    "nn = TwoLayerPerceptronVectorized(**params)\n",
    "\n",
    "nn.fit(X_train, y_train, print_progress=10)\n",
    "yhat = nn.predict(X_test)\n",
    "print('Accuracy:',accuracy_score(y_test,yhat))\n"
   ]
  },
  {
   "cell_type": "code",
   "execution_count": 22,
   "metadata": {},
   "outputs": [
    {
     "data": {
      "image/png": "[encoded data removed]",
      "text/plain": [
       "<Figure size 432x288 with 1 Axes>"
      ]
     },
     "metadata": {},
     "output_type": "display_data"
    }
   ],
   "source": [
    "plt.plot(range(len(nn.cost_)), nn.cost_)\n",
    "plt.ylabel('Cost')\n",
    "plt.xlabel('Epochs')\n",
    "plt.tight_layout()\n",
    "plt.show()"
   ]
  },
  {
   "cell_type": "code",
   "execution_count": 20,
   "metadata": {},
   "outputs": [],
   "source": [
    "from sklearn.metrics import accuracy_score\n",
    "# just start with the vectorized version and minibatch\n",
    "class TLPMiniBatchBase(TwoLayerPerceptronVectorized):\n",
    "    def __init__(self, alpha=0.0, decrease_const=0.0, shuffle=True, \n",
    "                 minibatches=1, **kwds):        \n",
    "        # need to add to the original initializer \n",
    "        self.alpha = alpha\n",
    "        self.decrease_const = decrease_const\n",
    "        self.shuffle = shuffle\n",
    "        self.minibatches = minibatches\n",
    "        # but keep other keywords\n",
    "        super().__init__(**kwds)\n",
    "        \n",
    "    \n",
    "    def fit(self, X, y, print_progress=False):\n",
    "        \"\"\" Learn weights from training data. With mini-batch\"\"\"\n",
    "        X_data, y_data = X.copy(), y.copy()\n",
    "        Y_enc = self._encode_labels(y)\n",
    "        \n",
    "        # init weights and setup matrices\n",
    "        self.n_features_ = X_data.shape[1]\n",
    "        self.n_output_ = Y_enc.shape[0]\n",
    "        self.Weights = self._initialize_weights()\n",
    "        \n",
    "        self.grad_W = [] \n",
    "        for i in range (len(self.Weights)):\n",
    "            self.grad_W.append([])\n",
    "            \n",
    "        self.weight_W = [] \n",
    "        for i in range (len(self.Weights)):\n",
    "            self.weight_W.append([])\n",
    "\n",
    "        delta_W_prev = []\n",
    "        for i in range (len(self.Weights)):\n",
    "            delta_W_prev.append(np.zeros(self.Weights[i].shape))\n",
    "\n",
    "        self.cost_ = []\n",
    "        self.score_ = []\n",
    "        # get starting acc\n",
    "        self.score_.append(accuracy_score(y_data,self.predict(X_data)))\n",
    "        for i in range(self.epochs):\n",
    "\n",
    "            # adaptive learning rate\n",
    "            self.eta /= (1 + self.decrease_const*i)\n",
    "\n",
    "            if print_progress>0 and (i+1)%print_progress==0:\n",
    "                sys.stderr.write('\\rEpoch: %d/%d' % (i+1, self.epochs))\n",
    "                sys.stderr.flush()\n",
    "\n",
    "            if self.shuffle:\n",
    "                idx_shuffle = np.random.permutation(y_data.shape[0])\n",
    "                X_data, Y_enc, y_data = X_data[idx_shuffle], Y_enc[:, idx_shuffle], y_data[idx_shuffle]\n",
    "\n",
    "            mini = np.array_split(range(y_data.shape[0]), self.minibatches)\n",
    "            mini_cost = []\n",
    "            for idx in mini:\n",
    "\n",
    "                # feedforward\n",
    "                A, Z = self._feedforward(X_data[idx], self.Weights)\n",
    "                \n",
    "                cost = self._cost_fun(A[-1],Y_enc[:, idx],self.Weights)\n",
    "                mini_cost.append(cost)        # this appends cost of mini-batch only\n",
    "\n",
    "                # compute gradient via backpropagation\n",
    "                grad = self._get_gradient(A = A, Z = Z, Y_enc=Y_enc[:, idx],\n",
    "                                                  Weights=self.Weights)\n",
    "\n",
    "                # momentum calculations\n",
    "                for i in range (len(grad)):\n",
    "                    delta_w = self.eta * grad[i]\n",
    "                    self.Weights[i] -= delta_w + self.alpha * delta_W_prev[i]\n",
    "                    delta_W_prev[i] = delta_w\n",
    "\n",
    "            self.cost_.append(mini_cost)\n",
    "            self.score_.append(accuracy_score(y_data,self.predict(X_data)))\n",
    "            \n",
    "            for i in range (len(self.grad_W)):\n",
    "                self.grad_W[i].append(np.mean(grad[i]))\n",
    "            for i in range (len(self.weight_W)):\n",
    "                self.weight_W[i].append(np.mean(self.Weights[i]))\n",
    "                \n",
    "        for i in range (len(self.grad_W)):\n",
    "            self.grad_W[i] = np.array(self.grad_W[i])\n",
    "        for i in range (len(self.grad_W)):\n",
    "            self.weight_W[i] = np.array(self.weight_W[i])\n",
    "            \n",
    "        return self"
   ]
  },
  {
   "cell_type": "code",
   "execution_count": 21,
   "metadata": {},
   "outputs": [],
   "source": [
    "class TLPMiniBatch(TLPMiniBatchBase): \n",
    "            \n",
    "    \n",
    "    def _get_gradient(self, A, Z, Y_enc, Weights):\n",
    "        \"\"\" Compute gradient step using backpropagation.\n",
    "        \"\"\"\n",
    "        grad = [np.zeros(i.shape) for i in Weights]\n",
    "        \n",
    "        # vectorized backpropagation\n",
    "        \n",
    "        if self.cost == 'mse':\n",
    "                V2 = -2*(Y_enc - A[-1])*self._phi_function(A[-1])\n",
    "        elif self.cost == 'entropy':\n",
    "                V2 = (A[-1]-Y_enc)\n",
    "        else:\n",
    "                raise Exception('No cost function named '+self.cost+' was found!!')\n",
    "        \n",
    "        grad[-1] = V2 @ A[-2].T\n",
    "        for i in range (self.n_layers):\n",
    "            V1 = (self._phi_function(A[-(i+2)]))*(Weights[-(i+1)].T @ V2)\n",
    "            grad[-(i+2)] = V1[1:,:] @ A[-(i+3)].T\n",
    "            V2 = V1[1:,:] \n",
    "        \n",
    "        for i in range (len(grad)):\n",
    "            # regularize weights that are not bias terms\n",
    "            grad[i][:, 1:] += Weights[i][:, 1:] * self.l2_C\n",
    "\n",
    "        return grad"
   ]
  },
  {
   "cell_type": "code",
   "execution_count": 25,
   "metadata": {},
   "outputs": [
    {
     "name": "stderr",
     "output_type": "stream",
     "text": [
      "Epoch: 800/800"
     ]
    },
    {
     "name": "stdout",
     "output_type": "stream",
     "text": [
      "Test acc: 0.7245508982035929\n"
     ]
    }
   ],
   "source": [
    "params = { 'n_hidden':(30,30), \n",
    "         'C':0.1, 'epochs':800, 'eta':0.001, \n",
    "         'alpha':0.001, 'decrease_const':1e-5, 'minibatches':50,\n",
    "         'shuffle':True,'random_state':1, 'phi' : 'sigmoid', 'cost':'entropy'}\n",
    "\n",
    "nn_quad = TLPMiniBatch(**params)\n",
    "nn_quad.fit(X_train, y_train, print_progress=1)\n",
    "yhat = nn_quad.predict(X_test)\n",
    "print('Test acc:',accuracy_score(y_test,yhat))"
   ]
  },
  {
   "cell_type": "code",
   "execution_count": 26,
   "metadata": {},
   "outputs": [
    {
     "data": {
      "image/png": "[encoded data removed]",
      "text/plain": [
       "<Figure size 432x288 with 1 Axes>"
      ]
     },
     "metadata": {},
     "output_type": "display_data"
    }
   ],
   "source": [
    "# take the mean of each minibatch epoch\n",
    "cost_avgs = [np.mean(x) for x in nn_quad.cost_]\n",
    "\n",
    "plt.plot(range(len(cost_avgs)), cost_avgs, color='red')\n",
    "plt.ylabel('Cost')\n",
    "plt.xlabel('Epochs')\n",
    "plt.tight_layout()\n",
    "plt.show()"
   ]
  },
  {
   "cell_type": "code",
   "execution_count": 27,
   "metadata": {},
   "outputs": [],
   "source": [
    "from scipy.optimize import fmin_bfgs\n",
    "from scipy.optimize import fmin_l_bfgs_b\n",
    "class TLPVectorizedBFGS(TwoLayerPerceptronVectorized):\n",
    "    \n",
    "    def __init__(self, gtol=1e-5, **kwds):        \n",
    "        # need to add to the original initializer \n",
    "        self.gtol = gtol\n",
    "        \n",
    "        # but keep other keywords\n",
    "        super().__init__(**kwds)\n",
    "        \n",
    "    @staticmethod\n",
    "    def _pack(in1, in2):\n",
    "        '''Pack and flatten input vectors '''\n",
    "        return np.hstack((in1.flatten(),in2.flatten()))\n",
    "    \n",
    "    def _unpack(self, in_tot):\n",
    "        '''Undo packing according to layer weight sizes'''\n",
    "        out1 = in_tot[:self.W1.size].reshape(self.W1.shape)\n",
    "        out2 = in_tot[self.W1.size:].reshape(self.W2.shape)\n",
    "        return out1, out2\n",
    "    \n",
    "    def _calc_cost_gradient_packed(self,W,X_data,Y_enc):\n",
    "        '''Unpack and get cost, gradient for bfgs'''\n",
    "        W1, W2 = self._unpack(W) \n",
    "        # feedforward all instances\n",
    "        A, Z = self._feedforward(X_data,[W1,W2])\n",
    "        A1, A2, A3 = A\n",
    "        Z1, Z2 = Z\n",
    "        \n",
    "        cost = np.sum((Y_enc-A3)**2)\n",
    "        L2_term = self._L2_reg(self.l2_C, [W1, W2])\n",
    "        cost = cost + L2_term\n",
    "        #perform back prop to get gradients\n",
    "        grad1,grad2 = self._get_gradient(A=A, Z=Z, Y_enc=Y_enc,\n",
    "                                         Weights=[W1, W2])\n",
    "        self.Weights = [W1,W2]\n",
    "        self.grad = [grad1, grad2]\n",
    "        return cost, self._pack(grad1,grad2)\n",
    "    \n",
    "    def _cost_packed(self,W,X_data,Y_enc):\n",
    "        '''Unpack and calculate MSE for bfgs'''\n",
    "        W1, W2 = self._unpack(W)\n",
    "        _, _, _, _, A3 = self._feedforward(X_data,W1,W2)\n",
    "        return np.sum((Y_enc-A3)**2)\n",
    "    \n",
    "    def fit(self,X,y,print_progress=0):\n",
    "        '''Learn weights from training data'''\n",
    "        X_data, y_data = X.copy(), y.copy()\n",
    "        Y_enc = self._encode_labels(y)\n",
    "        \n",
    "        # init weights and setup matrices\n",
    "        self.n_features_ = X_data.shape[1]\n",
    "        self.n_output_ = Y_enc.shape[0]\n",
    "        self.W1, self.W2 = self._initialize_weights()\n",
    "        \n",
    "        # make initial matrices into single row vector\n",
    "        W = self._pack(self.W1,self.W2)\n",
    "        \n",
    "        if print_progress>0:\n",
    "            def callback(xd):\n",
    "                callback.counter += 1\n",
    "                if callback.counter%print_progress==0:\n",
    "                    sys.stderr.write('\\rEpoch: %d/%d (max)' % (callback.counter,callback.epochs))\n",
    "                    sys.stderr.flush()\n",
    "\n",
    "            callback.counter = 0\n",
    "            callback.epochs = self.epochs\n",
    "            \n",
    "        else:\n",
    "            callback = None\n",
    "            \n",
    "        # compute gradient optimum with bfgs\n",
    "        W_best,_,props = fmin_l_bfgs_b(\n",
    "                        x0=W,\n",
    "                        func=self._calc_cost_gradient_packed,\n",
    "                        maxfun=self.epochs,\n",
    "                        callback=callback,\n",
    "                        pgtol=self.gtol,\n",
    "                        args=(X_data, Y_enc))\n",
    "        \n",
    "        self.W1, self.W2 = self._unpack(W_best)\n",
    "        #if print_progress:\n",
    "        #    print(props)"
   ]
  },
  {
   "cell_type": "code",
   "execution_count": 28,
   "metadata": {},
   "outputs": [
    {
     "name": "stderr",
     "output_type": "stream",
     "text": [
      "Epoch: 150/200 (max)"
     ]
    },
    {
     "name": "stdout",
     "output_type": "stream",
     "text": [
      "Accuracy: 0.7305389221556886\n"
     ]
    }
   ],
   "source": [
    "params = { 'n_hidden':(30,), \n",
    "         'C':0.1, 'epochs':200, 'eta':0.001,\n",
    "         'random_state':1, 'phi' : 'sigmoid', 'cost':'mse'}\n",
    "\n",
    "nn_bfgs = TLPVectorizedBFGS(**params, gtol=1e-3)\n",
    "\n",
    "nn_bfgs.fit(X_train, y_train, print_progress=50)\n",
    "yhat = nn_bfgs.predict(X_test)\n",
    "print('Accuracy:',accuracy_score(y_test,yhat))"
   ]
  },
  {
   "cell_type": "code",
   "execution_count": 48,
   "metadata": {},
   "outputs": [
    {
     "name": "stderr",
     "output_type": "stream",
     "text": [
      "Epoch: 600/600"
     ]
    },
    {
     "name": "stdout",
     "output_type": "stream",
     "text": [
      "Validation acc: 0.7221556886227545\n"
     ]
    }
   ],
   "source": [
    "nn_mini = TLPMiniBatch(n_hidden=(50,50), \n",
    "                       C=0.001,\n",
    "                       epochs=600, \n",
    "                       eta=0.001,\n",
    "                       alpha=0.001,\n",
    "                       decrease_const=0.00001,\n",
    "                       minibatches=50, \n",
    "                       shuffle=True,\n",
    "                       random_state=1)\n",
    "\n",
    "nn_mini.fit(X_train, y_train, print_progress=10)\n",
    "yhat = nn_mini.predict(X_test)\n",
    "print('Validation acc:',accuracy_score(y_test,yhat))"
   ]
  },
  {
   "cell_type": "code",
   "execution_count": 49,
   "metadata": {},
   "outputs": [
    {
     "data": {
      "image/png": "[encoded data removed]",
      "text/plain": [
       "<Figure size 432x288 with 1 Axes>"
      ]
     },
     "metadata": {},
     "output_type": "display_data"
    }
   ],
   "source": [
    "# take the mean of each minibatch epoch\n",
    "cost_avgs = [np.mean(x) for x in nn_mini.cost_]\n",
    "\n",
    "plt.plot(range(len(cost_avgs)), cost_avgs, color='red')\n",
    "plt.ylabel('Cost')\n",
    "plt.xlabel('Epochs')\n",
    "plt.tight_layout()\n",
    "plt.show()"
   ]
  },
  {
   "cell_type": "code",
   "execution_count": 50,
   "metadata": {},
   "outputs": [],
   "source": [
    "from sklearn.metrics import accuracy_score,f1_score\n",
    "import matplotlib.pyplot as plt\n",
    "%matplotlib inline\n",
    "\n",
    "plt.style.use('ggplot')\n",
    "\n",
    "def print_result(nn,X_train,y_train,X_test,y_test,title=\"\",color=\"red\"):\n",
    "    \n",
    "    print(\"=================\")\n",
    "    print(title,\":\")\n",
    "    yhat = nn.predict(X_train)\n",
    "    print('Resubstitution accuracy:',f1_score(y_train,yhat,average='macro'))\n",
    "    \n",
    "    yhat = nn.predict(X_test)\n",
    "    print('Validation accuracy:',f1_score(y_test,yhat,average='macro'))\n",
    "    \n",
    "    if hasattr(nn,'val_score_'):\n",
    "        plt.plot(range(len(nn.val_score_)), nn.val_score_, color=color,label=title)\n",
    "        plt.ylabel('Validation Accuracy')\n",
    "    else:\n",
    "        plt.plot(range(len(nn.score_)), nn.score_, color=color,label=title)\n",
    "        plt.ylabel('Resubstitution Accuracy')\n",
    "        \n",
    "    plt.xlabel('Epochs')\n",
    "    plt.tight_layout()\n",
    "    plt.legend(loc='best')\n",
    "    plt.grid(True)"
   ]
  },
  {
   "cell_type": "code",
   "execution_count": 51,
   "metadata": {},
   "outputs": [
    {
     "name": "stderr",
     "output_type": "stream",
     "text": [
      "Epoch: 3/10000"
     ]
    },
    {
     "name": "stdout",
     "output_type": "stream",
     "text": [
      "Wall time: 5.5 s\n"
     ]
    },
    {
     "name": "stderr",
     "output_type": "stream",
     "text": [
      "Epoch: 100/100"
     ]
    },
    {
     "name": "stdout",
     "output_type": "stream",
     "text": [
      "Wall time: 4.79 s\n",
      "Done\n"
     ]
    }
   ],
   "source": [
    "vals = { 'n_hidden':(50,), \n",
    "         'C':0.001, 'epochs':100, 'eta':0.001, \n",
    "         'alpha':0.001, 'decrease_const':1e-5, 'minibatches':50,\n",
    "         'shuffle':True,'random_state':1,'cost' : 'mse'}\n",
    "\n",
    "nn_quad = TLPMiniBatch(**vals)\n",
    "\n",
    "vals = { 'n_hidden':(50,), \n",
    "         'C':0.001, 'epochs':100, 'eta':0.001, \n",
    "         'alpha':0.001, 'decrease_const':1e-5, 'minibatches':50,\n",
    "         'shuffle':True,'random_state':1, 'cost':'entropy'}\n",
    "\n",
    "nn_cross = TLPMiniBatch(**vals)\n",
    "\n",
    "%time nn_cross.fit(X_train, y_train, print_progress=1)\n",
    "%time nn_quad.fit(X_train, y_train, print_progress=1)\n",
    "print(\"Done\")"
   ]
  },
  {
   "cell_type": "code",
   "execution_count": 52,
   "metadata": {},
   "outputs": [
    {
     "name": "stdout",
     "output_type": "stream",
     "text": [
      "=================\n",
      "Cross Entropy Loss :\n",
      "Resubstitution accuracy: 0.7224565206388656\n",
      "Validation accuracy: 0.6713659135359115\n",
      "=================\n",
      "Quadratic Loss :\n",
      "Resubstitution accuracy: 0.7089305707567575\n",
      "Validation accuracy: 0.6601284444181508\n"
     ]
    },
    {
     "data": {
      "image/png": "[encoded data removed]",
      "text/plain": [
       "<Figure size 432x288 with 1 Axes>"
      ]
     },
     "metadata": {},
     "output_type": "display_data"
    }
   ],
   "source": [
    "print_result(nn_cross,X_train,y_train,X_test,y_test,title=\"Cross Entropy Loss\",color=\"red\")\n",
    "print_result(nn_quad,X_train,y_train,X_test,y_test,title=\"Quadratic Loss\",color=\"blue\")\n",
    "\n",
    "plt.show()"
   ]
  },
  {
   "cell_type": "markdown",
   "metadata": {},
   "source": [
    "Above plot shows the accuracy for the cross entropy and quadratic cost functions. Cross entropy gives good accuracy of about 70% from 1st epoch and increases to its maximum value in around 25 epochs whereas quadratic cost function gives 47-48% accuracy in 1 epoch and increases to around 66% in 5-6 epochs. It takes 50 epochs for quadratic function to reach around its maximum value.<br> \n",
    "Comparing the accuracy of these two functions, cross entropy always has better results. The difference between the accuracy of these two cost functions remains stable after 25 epochs but there is large difference between the accuracies in the first 25 epochs."
   ]
  },
  {
   "cell_type": "markdown",
   "metadata": {},
   "source": [
    "## Tuning the Hyper-Parameters"
   ]
  },
  {
   "cell_type": "code",
   "execution_count": 23,
   "metadata": {},
   "outputs": [],
   "source": [
    "#Tuning\n",
    "from sklearn.metrics import make_scorer, f1_score\n",
    "from sklearn.model_selection import GridSearchCV\n",
    "f1score = make_scorer(f1_score, \n",
    "                       pos_label = 1,\n",
    "                      average = 'macro')\n",
    "\n",
    "tuned_params = [{'n_hidden':[(50,50),(50,50,50),(50,50,50,50)], \n",
    "         'C':[0.1], 'epochs':[600], 'eta':[0.00001],'random_state':[1], 'phi' :['sigmoid','linear'],'cost' :['mse','entropy']}]\n",
    "\n",
    "nn = TwoLayerPerceptronVectorized()"
   ]
  },
  {
   "cell_type": "code",
   "execution_count": 35,
   "metadata": {},
   "outputs": [
    {
     "data": {
      "text/plain": [
       "'search = GridSearchCV(nn, tuned_params ,cv = 10, scoring = f1score)\\n\\ngs = search.fit(X_train, y_train)\\n\\nprint(gs.best_score_)\\nprint(gs.best_params_)'"
      ]
     },
     "execution_count": 35,
     "metadata": {},
     "output_type": "execute_result"
    }
   ],
   "source": [
    "# GridSearchCV of sklearn does not work. \n",
    "# Therefore, in order to search for hyper parameres we used the for loop as presented in the cell below. \n",
    "\"\"\"search = GridSearchCV(nn, tuned_params ,cv = 10, scoring = f1score)\n",
    "\n",
    "gs = search.fit(X_train, y_train)\n",
    "\n",
    "print(gs.best_score_)\n",
    "print(gs.best_params_)\"\"\""
   ]
  },
  {
   "cell_type": "markdown",
   "metadata": {},
   "source": [
    "We have tried to implement hyper parameter tuning using Grid Search tuning above. But since it is giving us an error we will perform parameter tuning below in a 'for loop'."
   ]
  },
  {
   "cell_type": "code",
   "execution_count": 54,
   "metadata": {},
   "outputs": [],
   "source": [
    "phi = ['sigmoid','linear','ReLU','SiLU']\n",
    "cost = ['mse','entropy']\n",
    "n_hidden = [(50,),(50,50),(50,50,50),(50,50,50,50),(50,50,50,50,50),(50,50,50,50,50,50)]"
   ]
  },
  {
   "cell_type": "code",
   "execution_count": 55,
   "metadata": {},
   "outputs": [],
   "source": [
    "import pandas as pd\n",
    "Acc = []\n",
    "F1 = []\n",
    "output = np.zeros((48,5))"
   ]
  },
  {
   "cell_type": "code",
   "execution_count": 56,
   "metadata": {},
   "outputs": [
    {
     "name": "stderr",
     "output_type": "stream",
     "text": [
      "Epoch: 2/60000"
     ]
    },
    {
     "name": "stdout",
     "output_type": "stream",
     "text": [
      "Accuracy for model with phi =  sigmoid cost function mse and with number of hidden layers 1 is : 0.7389246497538811\n",
      "The range of Accuracy for 10 folds is 0.6626794258373205 to 0.8133971291866029\n",
      "==========\n",
      "f1 score is 0.6968567922436182\n",
      "The range of F1_score for 10 folds is 0.5769153593010414 to 0.7946443554888343\n"
     ]
    },
    {
     "name": "stderr",
     "output_type": "stream",
     "text": [
      "Epoch: 2/60000"
     ]
    },
    {
     "name": "stdout",
     "output_type": "stream",
     "text": [
      "Accuracy for model with phi =  sigmoid cost function mse and with number of hidden layers 2 is : 0.7398775688687181\n",
      "The range of Accuracy for 10 folds is 0.6650717703349283 to 0.8205741626794258\n",
      "==========\n",
      "f1 score is 0.7013009336900853\n",
      "The range of F1_score for 10 folds is 0.582234732227576 to 0.8090545220433474\n"
     ]
    },
    {
     "name": "stderr",
     "output_type": "stream",
     "text": [
      "Epoch: 1/60000"
     ]
    },
    {
     "name": "stdout",
     "output_type": "stream",
     "text": [
      "Accuracy for model with phi =  sigmoid cost function mse and with number of hidden layers 3 is : 0.7463391883107426\n",
      "The range of Accuracy for 10 folds is 0.6746411483253588 to 0.8181818181818182\n",
      "==========\n",
      "f1 score is 0.7079731293802302\n",
      "The range of F1_score for 10 folds is 0.5875380657989354 to 0.8054472859964852\n"
     ]
    },
    {
     "name": "stderr",
     "output_type": "stream",
     "text": [
      "Epoch: 2/60000"
     ]
    },
    {
     "name": "stdout",
     "output_type": "stream",
     "text": [
      "Accuracy for model with phi =  sigmoid cost function mse and with number of hidden layers 4 is : 0.7456209112577439\n",
      "The range of Accuracy for 10 folds is 0.6698564593301436 to 0.8157894736842105\n",
      "==========\n",
      "f1 score is 0.7092221472313458\n",
      "The range of F1_score for 10 folds is 0.5891750092276634 to 0.8040482077730965\n"
     ]
    },
    {
     "name": "stderr",
     "output_type": "stream",
     "text": [
      "Epoch: 2/60000"
     ]
    },
    {
     "name": "stdout",
     "output_type": "stream",
     "text": [
      "Accuracy for model with phi =  sigmoid cost function mse and with number of hidden layers 5 is : 0.7417891358609837\n",
      "The range of Accuracy for 10 folds is 0.6746411483253588 to 0.8014354066985646\n",
      "==========\n",
      "f1 score is 0.7046517446444522\n",
      "The range of F1_score for 10 folds is 0.5872809672654434 to 0.7886993772726297\n"
     ]
    },
    {
     "name": "stderr",
     "output_type": "stream",
     "text": [
      "Epoch: 7/60000"
     ]
    },
    {
     "name": "stdout",
     "output_type": "stream",
     "text": [
      "Accuracy for model with phi =  sigmoid cost function mse and with number of hidden layers 6 is : 0.7408287530814508\n",
      "The range of Accuracy for 10 folds is 0.6602870813397129 to 0.7966507177033493\n",
      "==========\n",
      "f1 score is 0.7048079494402717\n",
      "The range of F1_score for 10 folds is 0.5753534864788062 to 0.7858721576563901\n"
     ]
    },
    {
     "name": "stderr",
     "output_type": "stream",
     "text": [
      "Epoch: 4/60000"
     ]
    },
    {
     "name": "stdout",
     "output_type": "stream",
     "text": [
      "Accuracy for model with phi =  sigmoid cost function entropy and with number of hidden layers 1 is : 0.7429899087722828\n",
      "The range of Accuracy for 10 folds is 0.6818181818181818 to 0.8157894736842105\n",
      "==========\n",
      "f1 score is 0.703341497905604\n",
      "The range of F1_score for 10 folds is 0.5978390303212625 to 0.8018358354510574\n"
     ]
    },
    {
     "name": "stderr",
     "output_type": "stream",
     "text": [
      "Epoch: 4/60000"
     ]
    },
    {
     "name": "stdout",
     "output_type": "stream",
     "text": [
      "Accuracy for model with phi =  sigmoid cost function entropy and with number of hidden layers 2 is : 0.7429858900880768\n",
      "The range of Accuracy for 10 folds is 0.6578947368421053 to 0.8038277511961722\n",
      "==========\n",
      "f1 score is 0.7061377330241038\n",
      "The range of F1_score for 10 folds is 0.5749435159702002 to 0.7952880661771459\n"
     ]
    },
    {
     "name": "stderr",
     "output_type": "stream",
     "text": [
      "Epoch: 1/60000"
     ]
    },
    {
     "name": "stdout",
     "output_type": "stream",
     "text": [
      "Accuracy for model with phi =  sigmoid cost function entropy and with number of hidden layers 3 is : 0.7396383344189574\n",
      "The range of Accuracy for 10 folds is 0.6650717703349283 to 0.7894736842105263\n",
      "==========\n",
      "f1 score is 0.7020685599460093\n",
      "The range of F1_score for 10 folds is 0.5790170613700026 to 0.7776610644257703\n"
     ]
    },
    {
     "name": "stderr",
     "output_type": "stream",
     "text": [
      "Epoch: 3/60000"
     ]
    },
    {
     "name": "stdout",
     "output_type": "stream",
     "text": [
      "Accuracy for model with phi =  sigmoid cost function entropy and with number of hidden layers 4 is : 0.740831629874606\n",
      "The range of Accuracy for 10 folds is 0.6578947368421053 to 0.8086124401913876\n",
      "==========\n",
      "f1 score is 0.7068731013471872\n",
      "The range of F1_score for 10 folds is 0.5790471244443364 to 0.7858239460498059\n"
     ]
    },
    {
     "name": "stderr",
     "output_type": "stream",
     "text": [
      "Epoch: 2/60000"
     ]
    },
    {
     "name": "stdout",
     "output_type": "stream",
     "text": [
      "Accuracy for model with phi =  sigmoid cost function entropy and with number of hidden layers 5 is : 0.7413072219809724\n",
      "The range of Accuracy for 10 folds is 0.6650717703349283 to 0.8038277511961722\n",
      "==========\n",
      "f1 score is 0.705705714386903\n",
      "The range of F1_score for 10 folds is 0.5720043093816953 to 0.7888733143496344\n"
     ]
    },
    {
     "name": "stderr",
     "output_type": "stream",
     "text": [
      "Epoch: 10/6000"
     ]
    },
    {
     "name": "stdout",
     "output_type": "stream",
     "text": [
      "Accuracy for model with phi =  sigmoid cost function entropy and with number of hidden layers 6 is : 0.7381897049530048\n",
      "The range of Accuracy for 10 folds is 0.6650717703349283 to 0.8086124401913876\n",
      "==========\n",
      "f1 score is 0.7025372698416819\n",
      "The range of F1_score for 10 folds is 0.580349151677881 to 0.7834201436106709\n"
     ]
    },
    {
     "name": "stderr",
     "output_type": "stream",
     "text": [
      "Epoch: 7/60000"
     ]
    },
    {
     "name": "stdout",
     "output_type": "stream",
     "text": [
      "Accuracy for model with phi =  linear cost function mse and with number of hidden layers 1 is : 0.7293357189478449\n",
      "The range of Accuracy for 10 folds is 0.6770334928229665 to 0.7799043062200957\n",
      "==========\n",
      "f1 score is 0.680274664153101\n",
      "The range of F1_score for 10 folds is 0.5862901572191372 to 0.7600329161022802\n"
     ]
    },
    {
     "name": "stderr",
     "output_type": "stream",
     "text": [
      "Epoch: 4/60000"
     ]
    },
    {
     "name": "stdout",
     "output_type": "stream",
     "text": [
      "Accuracy for model with phi =  linear cost function mse and with number of hidden layers 2 is : 0.5693414333678437\n",
      "The range of Accuracy for 10 folds is 0.5683453237410072 to 0.5697115384615384\n",
      "==========\n",
      "f1 score is 0.24186000124960438\n",
      "The range of F1_score for 10 folds is 0.2415902140672783 to 0.2419601837672282\n"
     ]
    },
    {
     "name": "stderr",
     "output_type": "stream",
     "text": [
      "Epoch: 5/60000"
     ]
    },
    {
     "name": "stdout",
     "output_type": "stream",
     "text": [
      "Accuracy for model with phi =  linear cost function mse and with number of hidden layers 3 is : 0.5693414333678437\n",
      "The range of Accuracy for 10 folds is 0.5683453237410072 to 0.5697115384615384\n",
      "==========\n",
      "f1 score is 0.24186000124960438\n",
      "The range of F1_score for 10 folds is 0.2415902140672783 to 0.2419601837672282\n"
     ]
    },
    {
     "name": "stderr",
     "output_type": "stream",
     "text": [
      "Epoch: 4/60000"
     ]
    },
    {
     "name": "stdout",
     "output_type": "stream",
     "text": [
      "Accuracy for model with phi =  linear cost function mse and with number of hidden layers 4 is : 0.5693414333678437\n",
      "The range of Accuracy for 10 folds is 0.5683453237410072 to 0.5697115384615384\n",
      "==========\n",
      "f1 score is 0.24186000124960438\n",
      "The range of F1_score for 10 folds is 0.2415902140672783 to 0.2419601837672282\n"
     ]
    },
    {
     "name": "stderr",
     "output_type": "stream",
     "text": [
      "Epoch: 3/60000"
     ]
    },
    {
     "name": "stdout",
     "output_type": "stream",
     "text": [
      "Accuracy for model with phi =  linear cost function mse and with number of hidden layers 5 is : 0.5693414333678437\n",
      "The range of Accuracy for 10 folds is 0.5683453237410072 to 0.5697115384615384\n",
      "==========\n",
      "f1 score is 0.24186000124960438\n",
      "The range of F1_score for 10 folds is 0.2415902140672783 to 0.2419601837672282\n"
     ]
    },
    {
     "name": "stderr",
     "output_type": "stream",
     "text": [
      "Epoch: 8/60000"
     ]
    },
    {
     "name": "stdout",
     "output_type": "stream",
     "text": [
      "Accuracy for model with phi =  linear cost function mse and with number of hidden layers 6 is : 0.5693414333678437\n",
      "The range of Accuracy for 10 folds is 0.5683453237410072 to 0.5697115384615384\n",
      "==========\n",
      "f1 score is 0.24186000124960438\n",
      "The range of F1_score for 10 folds is 0.2415902140672783 to 0.2419601837672282\n"
     ]
    },
    {
     "name": "stderr",
     "output_type": "stream",
     "text": [
      "Epoch: 6/60000"
     ]
    },
    {
     "name": "stdout",
     "output_type": "stream",
     "text": [
      "Accuracy for model with phi =  linear cost function entropy and with number of hidden layers 1 is : 0.7288555261789832\n",
      "The range of Accuracy for 10 folds is 0.6770334928229665 to 0.7799043062200957\n",
      "==========\n",
      "f1 score is 0.6800650870637546\n",
      "The range of F1_score for 10 folds is 0.5862901572191372 to 0.7600329161022802\n"
     ]
    },
    {
     "name": "stderr",
     "output_type": "stream",
     "text": [
      "Epoch: 5/60000"
     ]
    },
    {
     "name": "stdout",
     "output_type": "stream",
     "text": [
      "Accuracy for model with phi =  linear cost function entropy and with number of hidden layers 2 is : 0.729817638344238\n",
      "The range of Accuracy for 10 folds is 0.6746411483253588 to 0.7799043062200957\n",
      "==========\n",
      "f1 score is 0.681310684283185\n",
      "The range of F1_score for 10 folds is 0.5856271384347514 to 0.7617405936316765\n"
     ]
    },
    {
     "name": "stderr",
     "output_type": "stream",
     "text": [
      "Epoch: 2/60000"
     ]
    },
    {
     "name": "stdout",
     "output_type": "stream",
     "text": [
      "Accuracy for model with phi =  linear cost function entropy and with number of hidden layers 3 is : 0.5693414333678437\n",
      "The range of Accuracy for 10 folds is 0.5683453237410072 to 0.5697115384615384\n",
      "==========\n",
      "f1 score is 0.24186000124960438\n",
      "The range of F1_score for 10 folds is 0.2415902140672783 to 0.2419601837672282\n"
     ]
    },
    {
     "name": "stderr",
     "output_type": "stream",
     "text": [
      "Epoch: 2/60000"
     ]
    },
    {
     "name": "stdout",
     "output_type": "stream",
     "text": [
      "Accuracy for model with phi =  linear cost function entropy and with number of hidden layers 4 is : 0.5693414333678437\n",
      "The range of Accuracy for 10 folds is 0.5683453237410072 to 0.5697115384615384\n",
      "==========\n",
      "f1 score is 0.24186000124960438\n",
      "The range of F1_score for 10 folds is 0.2415902140672783 to 0.2419601837672282\n"
     ]
    },
    {
     "name": "stderr",
     "output_type": "stream",
     "text": [
      "Epoch: 2/60000"
     ]
    },
    {
     "name": "stdout",
     "output_type": "stream",
     "text": [
      "Accuracy for model with phi =  linear cost function entropy and with number of hidden layers 5 is : 0.5693414333678437\n",
      "The range of Accuracy for 10 folds is 0.5683453237410072 to 0.5697115384615384\n",
      "==========\n",
      "f1 score is 0.24186000124960438\n",
      "The range of F1_score for 10 folds is 0.2415902140672783 to 0.2419601837672282\n"
     ]
    },
    {
     "name": "stderr",
     "output_type": "stream",
     "text": [
      "Epoch: 3/60000"
     ]
    },
    {
     "name": "stdout",
     "output_type": "stream",
     "text": [
      "Accuracy for model with phi =  linear cost function entropy and with number of hidden layers 6 is : 0.5693414333678437\n",
      "The range of Accuracy for 10 folds is 0.5683453237410072 to 0.5697115384615384\n",
      "==========\n",
      "f1 score is 0.24186000124960438\n",
      "The range of F1_score for 10 folds is 0.2415902140672783 to 0.2419601837672282\n"
     ]
    },
    {
     "name": "stderr",
     "output_type": "stream",
     "text": [
      "Epoch: 2/60000"
     ]
    },
    {
     "name": "stdout",
     "output_type": "stream",
     "text": [
      "Accuracy for model with phi =  ReLU cost function mse and with number of hidden layers 1 is : 0.7343751710078386\n",
      "The range of Accuracy for 10 folds is 0.6698564593301436 to 0.7870813397129187\n",
      "==========\n",
      "f1 score is 0.7009047188353894\n",
      "The range of F1_score for 10 folds is 0.598182465238059 to 0.764402003659198\n"
     ]
    },
    {
     "name": "stderr",
     "output_type": "stream",
     "text": [
      "Epoch: 4/60000"
     ]
    },
    {
     "name": "stdout",
     "output_type": "stream",
     "text": [
      "Accuracy for model with phi =  ReLU cost function mse and with number of hidden layers 2 is : 0.7106806227818628\n",
      "The range of Accuracy for 10 folds is 0.65311004784689 to 0.7679425837320574\n",
      "==========\n",
      "f1 score is 0.6823144088925669\n",
      "The range of F1_score for 10 folds is 0.6057042910710145 to 0.7449324047025971\n"
     ]
    },
    {
     "name": "stderr",
     "output_type": "stream",
     "text": [
      "Epoch: 3/60000"
     ]
    },
    {
     "name": "stdout",
     "output_type": "stream",
     "text": [
      "Accuracy for model with phi =  ReLU cost function mse and with number of hidden layers 3 is : 0.6979833873056137\n",
      "The range of Accuracy for 10 folds is 0.569377990430622 to 0.777511961722488\n",
      "==========\n",
      "f1 score is 0.6321215224258847\n",
      "The range of F1_score for 10 folds is 0.24186991869918698 to 0.7458368640153514\n"
     ]
    },
    {
     "name": "stderr",
     "output_type": "stream",
     "text": [
      "Epoch: 3/60000"
     ]
    },
    {
     "name": "stdout",
     "output_type": "stream",
     "text": [
      "Accuracy for model with phi =  ReLU cost function mse and with number of hidden layers 4 is : 0.5693414333678437\n",
      "The range of Accuracy for 10 folds is 0.5683453237410072 to 0.5697115384615384\n",
      "==========\n",
      "f1 score is 0.24186000124960438\n",
      "The range of F1_score for 10 folds is 0.2415902140672783 to 0.2419601837672282\n"
     ]
    },
    {
     "name": "stderr",
     "output_type": "stream",
     "text": [
      "Epoch: 2/60000"
     ]
    },
    {
     "name": "stdout",
     "output_type": "stream",
     "text": [
      "Accuracy for model with phi =  ReLU cost function mse and with number of hidden layers 5 is : 0.5693414333678437\n",
      "The range of Accuracy for 10 folds is 0.5683453237410072 to 0.5697115384615384\n",
      "==========\n",
      "f1 score is 0.24186000124960438\n",
      "The range of F1_score for 10 folds is 0.2415902140672783 to 0.2419601837672282\n"
     ]
    },
    {
     "name": "stderr",
     "output_type": "stream",
     "text": [
      "Epoch: 6/60000"
     ]
    },
    {
     "name": "stdout",
     "output_type": "stream",
     "text": [
      "Accuracy for model with phi =  ReLU cost function mse and with number of hidden layers 6 is : 0.5693414333678437\n",
      "The range of Accuracy for 10 folds is 0.5683453237410072 to 0.5697115384615384\n",
      "==========\n",
      "f1 score is 0.24186000124960438\n",
      "The range of F1_score for 10 folds is 0.2415902140672783 to 0.2419601837672282\n"
     ]
    },
    {
     "name": "stderr",
     "output_type": "stream",
     "text": [
      "Epoch: 5/60000"
     ]
    },
    {
     "name": "stdout",
     "output_type": "stream",
     "text": [
      "Accuracy for model with phi =  ReLU cost function entropy and with number of hidden layers 1 is : 0.7353298167502067\n",
      "The range of Accuracy for 10 folds is 0.6626794258373205 to 0.7894736842105263\n",
      "==========\n",
      "f1 score is 0.6991838503328102\n",
      "The range of F1_score for 10 folds is 0.5895588266858985 to 0.7645043389184195\n"
     ]
    },
    {
     "name": "stderr",
     "output_type": "stream",
     "text": [
      "Epoch: 3/60000"
     ]
    },
    {
     "name": "stdout",
     "output_type": "stream",
     "text": [
      "Accuracy for model with phi =  ReLU cost function entropy and with number of hidden layers 2 is : 0.7106645232213198\n",
      "The range of Accuracy for 10 folds is 0.6483253588516746 to 0.7703349282296651\n",
      "==========\n",
      "f1 score is 0.6799440882702592\n",
      "The range of F1_score for 10 folds is 0.602190561759295 to 0.7472217910464923\n"
     ]
    },
    {
     "name": "stderr",
     "output_type": "stream",
     "text": [
      "Epoch: 3/60000"
     ]
    },
    {
     "name": "stdout",
     "output_type": "stream",
     "text": [
      "Accuracy for model with phi =  ReLU cost function entropy and with number of hidden layers 3 is : 0.7020262305062096\n",
      "The range of Accuracy for 10 folds is 0.6282973621103117 to 0.7559808612440191\n",
      "==========\n",
      "f1 score is 0.6720607767631235\n",
      "The range of F1_score for 10 folds is 0.5760835151670731 to 0.7302637884125378\n"
     ]
    },
    {
     "name": "stderr",
     "output_type": "stream",
     "text": [
      "Epoch: 2/60000"
     ]
    },
    {
     "name": "stdout",
     "output_type": "stream",
     "text": [
      "Accuracy for model with phi =  ReLU cost function entropy and with number of hidden layers 4 is : 0.5693414333678437\n",
      "The range of Accuracy for 10 folds is 0.5683453237410072 to 0.5697115384615384\n",
      "==========\n",
      "f1 score is 0.24186000124960438\n",
      "The range of F1_score for 10 folds is 0.2415902140672783 to 0.2419601837672282\n"
     ]
    },
    {
     "name": "stderr",
     "output_type": "stream",
     "text": [
      "Epoch: 2/60000"
     ]
    },
    {
     "name": "stdout",
     "output_type": "stream",
     "text": [
      "Accuracy for model with phi =  ReLU cost function entropy and with number of hidden layers 5 is : 0.5693414333678437\n",
      "The range of Accuracy for 10 folds is 0.5683453237410072 to 0.5697115384615384\n",
      "==========\n",
      "f1 score is 0.24186000124960438\n",
      "The range of F1_score for 10 folds is 0.2415902140672783 to 0.2419601837672282\n"
     ]
    },
    {
     "name": "stderr",
     "output_type": "stream",
     "text": [
      "Epoch: 6/60000"
     ]
    },
    {
     "name": "stdout",
     "output_type": "stream",
     "text": [
      "Accuracy for model with phi =  ReLU cost function entropy and with number of hidden layers 6 is : 0.5693414333678437\n",
      "The range of Accuracy for 10 folds is 0.5683453237410072 to 0.5697115384615384\n",
      "==========\n",
      "f1 score is 0.24186000124960438\n",
      "The range of F1_score for 10 folds is 0.2415902140672783 to 0.2419601837672282\n"
     ]
    },
    {
     "name": "stderr",
     "output_type": "stream",
     "text": [
      "Epoch: 4/60000"
     ]
    },
    {
     "name": "stdout",
     "output_type": "stream",
     "text": [
      "Accuracy for model with phi =  SiLU cost function mse and with number of hidden layers 1 is : 0.7384369878039416\n",
      "The range of Accuracy for 10 folds is 0.6698564593301436 to 0.7966507177033493\n",
      "==========\n",
      "f1 score is 0.7019250655085019\n",
      "The range of F1_score for 10 folds is 0.5866307219881455 to 0.7705845411648381\n"
     ]
    },
    {
     "name": "stderr",
     "output_type": "stream",
     "text": [
      "Epoch: 3/60000"
     ]
    },
    {
     "name": "stdout",
     "output_type": "stream",
     "text": [
      "Accuracy for model with phi =  SiLU cost function mse and with number of hidden layers 2 is : 0.697992569323268\n",
      "The range of Accuracy for 10 folds is 0.569377990430622 to 0.8038277511961722\n",
      "==========\n",
      "f1 score is 0.6038770777312197\n",
      "The range of F1_score for 10 folds is 0.24186991869918698 to 0.7812165903110461\n"
     ]
    },
    {
     "name": "stderr",
     "output_type": "stream",
     "text": [
      "Epoch: 2/60000"
     ]
    },
    {
     "name": "stdout",
     "output_type": "stream",
     "text": [
      "Accuracy for model with phi =  SiLU cost function mse and with number of hidden layers 3 is : 0.5693414333678437\n",
      "The range of Accuracy for 10 folds is 0.5683453237410072 to 0.5697115384615384\n",
      "==========\n",
      "f1 score is 0.24186000124960438\n",
      "The range of F1_score for 10 folds is 0.2415902140672783 to 0.2419601837672282\n"
     ]
    },
    {
     "name": "stderr",
     "output_type": "stream",
     "text": [
      "Epoch: 1/60000"
     ]
    },
    {
     "name": "stdout",
     "output_type": "stream",
     "text": [
      "Accuracy for model with phi =  SiLU cost function mse and with number of hidden layers 4 is : 0.5693414333678437\n",
      "The range of Accuracy for 10 folds is 0.5683453237410072 to 0.5697115384615384\n",
      "==========\n",
      "f1 score is 0.24186000124960438\n",
      "The range of F1_score for 10 folds is 0.2415902140672783 to 0.2419601837672282\n"
     ]
    },
    {
     "name": "stderr",
     "output_type": "stream",
     "text": [
      "Epoch: 2/60000"
     ]
    },
    {
     "name": "stdout",
     "output_type": "stream",
     "text": [
      "Accuracy for model with phi =  SiLU cost function mse and with number of hidden layers 5 is : 0.5693414333678437\n",
      "The range of Accuracy for 10 folds is 0.5683453237410072 to 0.5697115384615384\n",
      "==========\n",
      "f1 score is 0.24186000124960438\n",
      "The range of F1_score for 10 folds is 0.2415902140672783 to 0.2419601837672282\n"
     ]
    },
    {
     "name": "stderr",
     "output_type": "stream",
     "text": [
      "Epoch: 7/60000"
     ]
    },
    {
     "name": "stdout",
     "output_type": "stream",
     "text": [
      "Accuracy for model with phi =  SiLU cost function mse and with number of hidden layers 6 is : 0.5693414333678437\n",
      "The range of Accuracy for 10 folds is 0.5683453237410072 to 0.5697115384615384\n",
      "==========\n",
      "f1 score is 0.24186000124960438\n",
      "The range of F1_score for 10 folds is 0.2415902140672783 to 0.2419601837672282\n"
     ]
    },
    {
     "name": "stderr",
     "output_type": "stream",
     "text": [
      "Epoch: 5/60000"
     ]
    },
    {
     "name": "stdout",
     "output_type": "stream",
     "text": [
      "Accuracy for model with phi =  SiLU cost function entropy and with number of hidden layers 1 is : 0.7393979498035728\n",
      "The range of Accuracy for 10 folds is 0.6722488038277512 to 0.7918660287081339\n",
      "==========\n",
      "f1 score is 0.701717162998998\n",
      "The range of F1_score for 10 folds is 0.5881730187537809 to 0.774894948305353\n"
     ]
    },
    {
     "name": "stderr",
     "output_type": "stream",
     "text": [
      "Epoch: 3/60000"
     ]
    },
    {
     "name": "stdout",
     "output_type": "stream",
     "text": [
      "Accuracy for model with phi =  SiLU cost function entropy and with number of hidden layers 2 is : 0.7279008997439517\n",
      "The range of Accuracy for 10 folds is 0.6650717703349283 to 0.7822966507177034\n",
      "==========\n",
      "f1 score is 0.6967079592481631\n",
      "The range of F1_score for 10 folds is 0.5992649898969602 to 0.7620169086844372\n"
     ]
    },
    {
     "name": "stderr",
     "output_type": "stream",
     "text": [
      "Epoch: 2/60000"
     ]
    },
    {
     "name": "stdout",
     "output_type": "stream",
     "text": [
      "Accuracy for model with phi =  SiLU cost function entropy and with number of hidden layers 3 is : 0.5693414333678437\n",
      "The range of Accuracy for 10 folds is 0.5683453237410072 to 0.5697115384615384\n",
      "==========\n",
      "f1 score is 0.24186000124960438\n",
      "The range of F1_score for 10 folds is 0.2415902140672783 to 0.2419601837672282\n"
     ]
    },
    {
     "name": "stderr",
     "output_type": "stream",
     "text": [
      "Epoch: 2/60000"
     ]
    },
    {
     "name": "stdout",
     "output_type": "stream",
     "text": [
      "Accuracy for model with phi =  SiLU cost function entropy and with number of hidden layers 4 is : 0.5693414333678437\n",
      "The range of Accuracy for 10 folds is 0.5683453237410072 to 0.5697115384615384\n",
      "==========\n",
      "f1 score is 0.24186000124960438\n",
      "The range of F1_score for 10 folds is 0.2415902140672783 to 0.2419601837672282\n"
     ]
    },
    {
     "name": "stderr",
     "output_type": "stream",
     "text": [
      "Epoch: 2/60000"
     ]
    },
    {
     "name": "stdout",
     "output_type": "stream",
     "text": [
      "Accuracy for model with phi =  SiLU cost function entropy and with number of hidden layers 5 is : 0.5693414333678437\n",
      "The range of Accuracy for 10 folds is 0.5683453237410072 to 0.5697115384615384\n",
      "==========\n",
      "f1 score is 0.24186000124960438\n",
      "The range of F1_score for 10 folds is 0.2415902140672783 to 0.2419601837672282\n"
     ]
    },
    {
     "name": "stderr",
     "output_type": "stream",
     "text": [
      "Epoch: 600/600"
     ]
    },
    {
     "name": "stdout",
     "output_type": "stream",
     "text": [
      "Accuracy for model with phi =  SiLU cost function entropy and with number of hidden layers 6 is : 0.5693414333678437\n",
      "The range of Accuracy for 10 folds is 0.5683453237410072 to 0.5697115384615384\n",
      "==========\n",
      "f1 score is 0.24186000124960438\n",
      "The range of F1_score for 10 folds is 0.2415902140672783 to 0.2419601837672282\n"
     ]
    }
   ],
   "source": [
    "#runs for a long time\n",
    "l = 0\n",
    "skf = StratifiedKFold(n_splits=10, random_state=None, shuffle=False)\n",
    "\n",
    "for i in range(len(phi)):\n",
    "    for j in range(len(cost)):\n",
    "        for k in range(len(n_hidden)):\n",
    "            Acc = []\n",
    "            F1 = []\n",
    "            for train_index, test_index in skf.split(X, y):\n",
    "                X_trainval, X_testval = X[train_index], X[test_index]\n",
    "                y_trainval, y_testval = y[train_index], y[test_index]\n",
    "                vals = { 'n_hidden':n_hidden[k],'C':0.001, 'epochs':600, 'eta':0.001, \n",
    "                     'alpha':0.001, 'decrease_const':1e-5, 'minibatches':50,\n",
    "                     'shuffle':True,'random_state':1, 'phi' : phi[i], 'cost':cost[j]}\n",
    "                nn = TLPMiniBatch(**vals)\n",
    "                nn.fit(X_trainval, y_trainval, print_progress=1)\n",
    "                yhat = nn.predict(X_testval)\n",
    "                acc = accuracy_score(y_testval,yhat)\n",
    "                Acc.append(acc)\n",
    "                f1 = f1_score(y_testval,yhat, average='macro')\n",
    "                F1.append(f1)\n",
    "            print(\"Accuracy for model with phi = \",phi[i],\"cost function\",cost[j],\"and with number of hidden layers\",len(n_hidden[k]),\"is :\", np.mean(Acc))\n",
    "            print(\"The range of Accuracy for 10 folds is\",np.min(Acc),\"to\",np.max(Acc))\n",
    "            print(\"==========\")\n",
    "            print(\"f1 score is\", np.mean(F1))\n",
    "            print(\"The range of F1_score for 10 folds is\",np.min(F1),\"to\",np.max(F1))\n",
    "            if phi[i] == 'sigmoid':\n",
    "                output[l,0] = 0\n",
    "            elif phi[i] == 'linear':\n",
    "                output[l,0] = 1\n",
    "            elif phi[i] == 'ReLU':\n",
    "                output[l,0] = 2\n",
    "            else:\n",
    "                output[l,0] = 3\n",
    "            if cost[j] == 'mse':\n",
    "                output[l,1] = 0\n",
    "            else:\n",
    "                output[l,1] = 1\n",
    "            output[l,2] = len(n_hidden[k])\n",
    "            output[l,3] = np.mean(Acc)\n",
    "            output[l,4] = np.mean(F1)\n",
    "            l += 1"
   ]
  },
  {
   "cell_type": "markdown",
   "metadata": {},
   "source": [
    "Above code fragment helps us to perform cross validation to find the optimal parameters for our model. We have first split our training data into 10 folds of train and test data for hyper parameter tuning purpose. This is done using stratified k-fold cross validation object. Then we have calculated the accuracy and f1 score for each of these folds for every parameter. To get the accuracy and f1 score for each parameter we have taken the average of these values over 10 folds.<br>\n",
    "As seen above, the values of accuracy and f1 score differ over these 10 folds but the range of this difference is just around 15-20%. Thus we think it is reasonable to take their average since the range does not differ a lot."
   ]
  },
  {
   "cell_type": "code",
   "execution_count": 57,
   "metadata": {},
   "outputs": [
    {
     "name": "stdout",
     "output_type": "stream",
     "text": [
      "[[0.         0.         1.         0.73892465 0.69685679]\n",
      " [0.         0.         2.         0.73987757 0.70130093]\n",
      " [0.         0.         3.         0.74633919 0.70797313]\n",
      " [0.         0.         4.         0.74562091 0.70922215]\n",
      " [0.         0.         5.         0.74178914 0.70465174]\n",
      " [0.         0.         6.         0.74082875 0.70480795]\n",
      " [0.         1.         1.         0.74298991 0.7033415 ]\n",
      " [0.         1.         2.         0.74298589 0.70613773]\n",
      " [0.         1.         3.         0.73963833 0.70206856]\n",
      " [0.         1.         4.         0.74083163 0.7068731 ]\n",
      " [0.         1.         5.         0.74130722 0.70570571]\n",
      " [0.         1.         6.         0.7381897  0.70253727]\n",
      " [1.         0.         1.         0.72933572 0.68027466]\n",
      " [1.         0.         2.         0.56934143 0.24186   ]\n",
      " [1.         0.         3.         0.56934143 0.24186   ]\n",
      " [1.         0.         4.         0.56934143 0.24186   ]\n",
      " [1.         0.         5.         0.56934143 0.24186   ]\n",
      " [1.         0.         6.         0.56934143 0.24186   ]\n",
      " [1.         1.         1.         0.72885553 0.68006509]\n",
      " [1.         1.         2.         0.72981764 0.68131068]\n",
      " [1.         1.         3.         0.56934143 0.24186   ]\n",
      " [1.         1.         4.         0.56934143 0.24186   ]\n",
      " [1.         1.         5.         0.56934143 0.24186   ]\n",
      " [1.         1.         6.         0.56934143 0.24186   ]\n",
      " [2.         0.         1.         0.73437517 0.70090472]\n",
      " [2.         0.         2.         0.71068062 0.68231441]\n",
      " [2.         0.         3.         0.69798339 0.63212152]\n",
      " [2.         0.         4.         0.56934143 0.24186   ]\n",
      " [2.         0.         5.         0.56934143 0.24186   ]\n",
      " [2.         0.         6.         0.56934143 0.24186   ]\n",
      " [2.         1.         1.         0.73532982 0.69918385]\n",
      " [2.         1.         2.         0.71066452 0.67994409]\n",
      " [2.         1.         3.         0.70202623 0.67206078]\n",
      " [2.         1.         4.         0.56934143 0.24186   ]\n",
      " [2.         1.         5.         0.56934143 0.24186   ]\n",
      " [2.         1.         6.         0.56934143 0.24186   ]\n",
      " [3.         0.         1.         0.73843699 0.70192507]\n",
      " [3.         0.         2.         0.69799257 0.60387708]\n",
      " [3.         0.         3.         0.56934143 0.24186   ]\n",
      " [3.         0.         4.         0.56934143 0.24186   ]\n",
      " [3.         0.         5.         0.56934143 0.24186   ]\n",
      " [3.         0.         6.         0.56934143 0.24186   ]\n",
      " [3.         1.         1.         0.73939795 0.70171716]\n",
      " [3.         1.         2.         0.7279009  0.69670796]\n",
      " [3.         1.         3.         0.56934143 0.24186   ]\n",
      " [3.         1.         4.         0.56934143 0.24186   ]\n",
      " [3.         1.         5.         0.56934143 0.24186   ]\n",
      " [3.         1.         6.         0.56934143 0.24186   ]]\n"
     ]
    }
   ],
   "source": [
    "print(output)"
   ]
  },
  {
   "cell_type": "markdown",
   "metadata": {},
   "source": [
    "Since parameter searching takes a long time to run, we have saved the output in the file which we can load to visualize the accuracy and f1 score for different parameter combinations"
   ]
  },
  {
   "cell_type": "code",
   "execution_count": 58,
   "metadata": {},
   "outputs": [],
   "source": [
    "np.save('output_file', output)"
   ]
  },
  {
   "cell_type": "code",
   "execution_count": 59,
   "metadata": {},
   "outputs": [
    {
     "name": "stdout",
     "output_type": "stream",
     "text": [
      "[[0.         0.         1.         0.73892465 0.69685679]\n",
      " [0.         0.         2.         0.73987757 0.70130093]\n",
      " [0.         0.         3.         0.74633919 0.70797313]\n",
      " [0.         0.         4.         0.74562091 0.70922215]\n",
      " [0.         0.         5.         0.74178914 0.70465174]\n",
      " [0.         0.         6.         0.74082875 0.70480795]\n",
      " [0.         1.         1.         0.74298991 0.7033415 ]\n",
      " [0.         1.         2.         0.74298589 0.70613773]\n",
      " [0.         1.         3.         0.73963833 0.70206856]\n",
      " [0.         1.         4.         0.74083163 0.7068731 ]\n",
      " [0.         1.         5.         0.74130722 0.70570571]\n",
      " [0.         1.         6.         0.7381897  0.70253727]\n",
      " [1.         0.         1.         0.72933572 0.68027466]\n",
      " [1.         0.         2.         0.56934143 0.24186   ]\n",
      " [1.         0.         3.         0.56934143 0.24186   ]\n",
      " [1.         0.         4.         0.56934143 0.24186   ]\n",
      " [1.         0.         5.         0.56934143 0.24186   ]\n",
      " [1.         0.         6.         0.56934143 0.24186   ]\n",
      " [1.         1.         1.         0.72885553 0.68006509]\n",
      " [1.         1.         2.         0.72981764 0.68131068]\n",
      " [1.         1.         3.         0.56934143 0.24186   ]\n",
      " [1.         1.         4.         0.56934143 0.24186   ]\n",
      " [1.         1.         5.         0.56934143 0.24186   ]\n",
      " [1.         1.         6.         0.56934143 0.24186   ]\n",
      " [2.         0.         1.         0.73437517 0.70090472]\n",
      " [2.         0.         2.         0.71068062 0.68231441]\n",
      " [2.         0.         3.         0.69798339 0.63212152]\n",
      " [2.         0.         4.         0.56934143 0.24186   ]\n",
      " [2.         0.         5.         0.56934143 0.24186   ]\n",
      " [2.         0.         6.         0.56934143 0.24186   ]\n",
      " [2.         1.         1.         0.73532982 0.69918385]\n",
      " [2.         1.         2.         0.71066452 0.67994409]\n",
      " [2.         1.         3.         0.70202623 0.67206078]\n",
      " [2.         1.         4.         0.56934143 0.24186   ]\n",
      " [2.         1.         5.         0.56934143 0.24186   ]\n",
      " [2.         1.         6.         0.56934143 0.24186   ]\n",
      " [3.         0.         1.         0.73843699 0.70192507]\n",
      " [3.         0.         2.         0.69799257 0.60387708]\n",
      " [3.         0.         3.         0.56934143 0.24186   ]\n",
      " [3.         0.         4.         0.56934143 0.24186   ]\n",
      " [3.         0.         5.         0.56934143 0.24186   ]\n",
      " [3.         0.         6.         0.56934143 0.24186   ]\n",
      " [3.         1.         1.         0.73939795 0.70171716]\n",
      " [3.         1.         2.         0.7279009  0.69670796]\n",
      " [3.         1.         3.         0.56934143 0.24186   ]\n",
      " [3.         1.         4.         0.56934143 0.24186   ]\n",
      " [3.         1.         5.         0.56934143 0.24186   ]\n",
      " [3.         1.         6.         0.56934143 0.24186   ]]\n"
     ]
    }
   ],
   "source": [
    "output1 = np.load('output_file.npy')\n",
    "print(output1)"
   ]
  },
  {
   "cell_type": "code",
   "execution_count": 60,
   "metadata": {},
   "outputs": [],
   "source": [
    "df = pd.DataFrame(output1)\n",
    "df.columns = ['phi_func','cost_func','n_Hidden','Accuracy','F1_score']\n",
    "x = [1,2,3,4,5,6]\n",
    "legends = ['sigmoid-mse','sigmoid-entropy','linear-mse','linear-entropy','ReLU-mse','ReLU-entropy','SiLU-mse','SiLU-entropy']"
   ]
  },
  {
   "cell_type": "code",
   "execution_count": 61,
   "metadata": {
    "scrolled": false
   },
   "outputs": [
    {
     "data": {
      "image/png": "[encoded data removed]",
      "text/plain": [
       "<Figure size 1440x1440 with 8 Axes>"
      ]
     },
     "metadata": {},
     "output_type": "display_data"
    },
    {
     "data": {
      "text/plain": [
       "<Figure size 1440x1440 with 0 Axes>"
      ]
     },
     "metadata": {},
     "output_type": "display_data"
    }
   ],
   "source": [
    "fig, ax = plt.subplots(4,2,figsize=(20,20))\n",
    "plt.figure(figsize=(20,20))\n",
    "ax[0,0].plot(x,df['F1_score'][:6],marker='o', markerfacecolor='blue', markersize=12, color='orange', linewidth=4)\n",
    "ax[0,0].set_title(legends[0])\n",
    "ax[0,1].plot(x,df['F1_score'][6:12],marker='o', markerfacecolor='blue', markersize=12, color='orange', linewidth=4)\n",
    "ax[0,1].set_title(legends[1])\n",
    "ax[1,0].plot(x,df['F1_score'][12:18],marker='o', markerfacecolor='blue', markersize=12, color='orange', linewidth=4)\n",
    "ax[1,0].set_title(legends[2])\n",
    "ax[1,1].plot(x,df['F1_score'][18:24],marker='o', markerfacecolor='blue', markersize=12, color='orange', linewidth=4)\n",
    "ax[1,1].set_title(legends[3])\n",
    "ax[2,0].plot(x,df['F1_score'][24:30],marker='o', markerfacecolor='blue', markersize=12, color='orange', linewidth=4)\n",
    "ax[2,0].set_title(legends[4])\n",
    "ax[2,1].plot(x,df['F1_score'][30:36],marker='o', markerfacecolor='blue', markersize=12, color='orange', linewidth=4)\n",
    "ax[2,1].set_title(legends[5])\n",
    "ax[3,0].plot(x,df['F1_score'][36:42],marker='o', markerfacecolor='blue', markersize=12, color='orange', linewidth=4)\n",
    "ax[3,0].set_title(legends[6])\n",
    "ax[3,1].plot(x,df['F1_score'][42:48],marker='o', markerfacecolor='blue', markersize=12, color='orange', linewidth=4)\n",
    "ax[3,1].set_title(legends[7])\n",
    "for axs in ax.flat:\n",
    "    axs.set(xlabel= 'Number of Hidden Layers',ylabel= 'F1_score')\n",
    "    #axs.set()"
   ]
  },
  {
   "cell_type": "markdown",
   "metadata": {},
   "source": [
    "Above plots show us the f1 scores of the models with various metrics and number of hidden layers. Model with sigmoid as activation function and mse as cost function is giving us the lowest f1 score for the 1st layer among all other models.But Sigmoid activation function is consistently giving us good results with f1 score of around 0.7 for all the hidden layers. \n",
    "For overall results, we are getting good performance for 1 to 2 hidden layers with the exception of sigmoid activation function which is working well for all the layers. But as we increase the number of layers in our model, the f1 score deteriorates for other activation functions.<br>\n",
    "Also, using cross entropy cost function is slightly better than mse cost function generally. The activation function which is giving us good performance consistently is sigmoid. As seen above, sigmoid gives us f1 score of around 71% for 3-4 hidden layers for mse cost function. cross entropy also, is giving us similar results which are in the range of 70-71%.<br>\n",
    "So, considering all the above things, we have concluded that the optimal parameters for our model would be Sigmoid activation function with quadratic cost function and 4 hidden layers."
   ]
  },
  {
   "cell_type": "markdown",
   "metadata": {},
   "source": [
    "We have even plot the accuracy results for the above hyper parameter tuning process."
   ]
  },
  {
   "cell_type": "code",
   "execution_count": 62,
   "metadata": {},
   "outputs": [
    {
     "data": {
      "image/png": "[encoded data removed]",
      "text/plain": [
       "<Figure size 1440x1440 with 8 Axes>"
      ]
     },
     "metadata": {},
     "output_type": "display_data"
    },
    {
     "data": {
      "text/plain": [
       "<Figure size 1440x1440 with 0 Axes>"
      ]
     },
     "metadata": {},
     "output_type": "display_data"
    }
   ],
   "source": [
    "fig, ax = plt.subplots(4,2,figsize=(20,20))\n",
    "plt.figure(figsize=(20,20))\n",
    "ax[0,0].plot(x,df['Accuracy'][:6],marker='o', markerfacecolor='blue', markersize=12, color='orange', linewidth=4)\n",
    "ax[0,0].set_title(legends[0])\n",
    "ax[0,1].plot(x,df['Accuracy'][6:12],marker='o', markerfacecolor='blue', markersize=12, color='orange', linewidth=4)\n",
    "ax[0,1].set_title(legends[1])\n",
    "ax[1,0].plot(x,df['Accuracy'][12:18],marker='o', markerfacecolor='blue', markersize=12, color='orange', linewidth=4)\n",
    "ax[1,0].set_title(legends[2])\n",
    "ax[1,1].plot(x,df['Accuracy'][18:24],marker='o', markerfacecolor='blue', markersize=12, color='orange', linewidth=4)\n",
    "ax[1,1].set_title(legends[3])\n",
    "ax[2,0].plot(x,df['Accuracy'][24:30],marker='o', markerfacecolor='blue', markersize=12, color='orange', linewidth=4)\n",
    "ax[2,0].set_title(legends[4])\n",
    "ax[2,1].plot(x,df['Accuracy'][30:36],marker='o', markerfacecolor='blue', markersize=12, color='orange', linewidth=4)\n",
    "ax[2,1].set_title(legends[5])\n",
    "ax[3,0].plot(x,df['Accuracy'][36:42],marker='o', markerfacecolor='blue', markersize=12, color='orange', linewidth=4)\n",
    "ax[3,0].set_title(legends[6])\n",
    "ax[3,1].plot(x,df['Accuracy'][42:48],marker='o', markerfacecolor='blue', markersize=12, color='orange', linewidth=4)\n",
    "ax[3,1].set_title(legends[7])\n",
    "for axs in ax.flat:\n",
    "    axs.set(xlabel= 'Number of Hidden Layers',ylabel= 'Accuracy')"
   ]
  },
  {
   "cell_type": "markdown",
   "metadata": {},
   "source": [
    "As seen above, the change in f1 score is somewhat proportional to the change in accuracy for different models with the given parameters. The accuracy values are slightly higher than f1 score which totally makes sense as f1 is considering false positives and negatives when scoring. But the curves for f1 score and accuracy are similar."
   ]
  },
  {
   "cell_type": "markdown",
   "metadata": {},
   "source": [
    "## Visualizing the gradients"
   ]
  },
  {
   "cell_type": "code",
   "execution_count": 65,
   "metadata": {},
   "outputs": [
    {
     "name": "stderr",
     "output_type": "stream",
     "text": [
      "Epoch: 600/600"
     ]
    },
    {
     "data": {
      "image/png": "[encoded data removed]",
      "text/plain": [
       "<Figure size 432x288 with 1 Axes>"
      ]
     },
     "metadata": {},
     "output_type": "display_data"
    }
   ],
   "source": [
    "params = {  'n_hidden':(50,50,50,50),'C':0.001, 'epochs':600, 'eta':0.001, \n",
    "                     'alpha':0.001, 'decrease_const':1e-5, 'minibatches':50,\n",
    "                     'shuffle':True,'random_state':1, 'phi' : 'sigmoid', 'cost':'mse'}\n",
    "\n",
    "nn_quad = TLPMiniBatch(**params)\n",
    "nn_quad.fit(X_train, y_train, print_progress=1)\n",
    "\n",
    "clf = nn_quad\n",
    "ax = plt.subplot(1,1,1)\n",
    "\n",
    "for i in range (len(clf.weight_W)):\n",
    "    plt.plot(abs(clf.weight_W[i]), label='w'+str(i+1))  #visualizing gradient magnitudes\n",
    "plt.legend()\n",
    "plt.ylabel('Average gradient magnitude')\n",
    "plt.xlabel('Iteration')\n",
    "plt.show()"
   ]
  },
  {
   "cell_type": "code",
   "execution_count": 24,
   "metadata": {},
   "outputs": [
    {
     "name": "stderr",
     "output_type": "stream",
     "text": [
      "Epoch: 600/600"
     ]
    },
    {
     "data": {
      "image/png": "[encoded data removed]",
      "text/plain": [
       "<matplotlib.figure.Figure at 0x7ffbeee709b0>"
      ]
     },
     "metadata": {},
     "output_type": "display_data"
    }
   ],
   "source": [
    "params = {  'n_hidden':(50,50,50),'C':0.001, 'epochs':600, 'eta':0.001, \n",
    "                     'alpha':0.001, 'decrease_const':1e-5, 'minibatches':50,\n",
    "                     'shuffle':True,'random_state':1, 'phi' : 'sigmoid', 'cost':'mse'}\n",
    "\n",
    "nn_cross = TLPMiniBatch(**params)\n",
    "nn_cross.fit(X_train, y_train, print_progress=1)\n",
    "\n",
    "clf = nn_cross\n",
    "ax = plt.subplot(1,1,1)\n",
    "\n",
    "for i in range (len(clf.weight_W)):\n",
    "    plt.plot(abs(clf.weight_W[i]), label='w'+str(i+1))  #visualizing gradient magnitudes\n",
    "plt.legend()\n",
    "plt.ylabel('Average gradient magnitude')\n",
    "plt.xlabel('Iteration')\n",
    "plt.show()"
   ]
  },
  {
   "cell_type": "markdown",
   "metadata": {},
   "source": [
    "We have visualized the gradients for our two best models. The last layer gradients for sigmoid with quadratic cost and 4 hidden layers change considerably upto 200 epochs and this change then somewhat reduces but they keep increasing. They do not stay consistent for any epochs. The gradients of the first layer increase for all 600 epochs and are never consistent. For next 3 layers, they stay consistent after around 100 epochs.<br>\n",
    "The gradients for sigmoid with quadratic cost and 3 hidden layers are similar to the one with 4 hidden layers. The last layer gradient increases considerably upto 25 epochs and then the increase slows down a little but it keeps increasing for all epochs. The gradients in the first layer increase a little from beginning upto 100 epochs and then stabilizes. Gradients for next two layers are somewhat consistent throughout the training.<br>\n",
    "The gradients in the last layer have the highest magnitude which then decreases for other layer gradients. This is because the gradients in the final layer are more sensitive to the output and thus have higher magnitude."
   ]
  },
  {
   "cell_type": "markdown",
   "metadata": {},
   "source": [
    "## Exceptional Work"
   ]
  },
  {
   "cell_type": "markdown",
   "metadata": {},
   "source": [
    "We have implemented ReLU and SiLU in the above code and visualized their performance when tuning the hyper-parameters"
   ]
  },
  {
   "cell_type": "code",
   "execution_count": 25,
   "metadata": {},
   "outputs": [
    {
     "name": "stderr",
     "output_type": "stream",
     "text": [
      "Epoch: 600/600"
     ]
    },
    {
     "name": "stdout",
     "output_type": "stream",
     "text": [
      "Accuracy: 0.7604790419161677\n",
      "F1 score: 0.7306097082269168\n"
     ]
    }
   ],
   "source": [
    "params = {  'n_hidden':(50,50,50,50),'C':0.001, 'epochs':600, 'eta':0.001, \n",
    "                     'alpha':0.001, 'decrease_const':1e-5, 'minibatches':50,\n",
    "                     'shuffle':True,'random_state':1, 'phi' : 'sigmoid', 'cost':'mse'}\n",
    "nn_mini = TLPMiniBatch(**params)\n",
    "nn_mini.fit(X_train, y_train, print_progress=10)\n",
    "yhat = nn_mini.predict(X_test)\n",
    "print('Accuracy:',accuracy_score(y_test,yhat))\n",
    "print('F1 score:',f1_score(y_test,yhat,average = 'macro'))"
   ]
  },
  {
   "cell_type": "markdown",
   "metadata": {},
   "source": [
    "Finally, we have tested the accuracy of the model, with the selected parameters,on the test data that we had split in the beginning for testing the models. The accuracy we are getting is 76.04% whereas F1 score is 73.06% which is in the same range or even better than the values we were getting in some of the combinations of the parameters. Thus, we can say that we have built a model which is not overfit or would perform well generally.   "
   ]
  },
  {
   "cell_type": "markdown",
   "metadata": {},
   "source": [
    "# Reference:\n",
    "Dr. Eric Larson's course at SMU, Fall 2019, https://github.com/eclarson/MachineLearningNotebooks"
   ]
  },
  {
   "cell_type": "code",
   "execution_count": null,
   "metadata": {},
   "outputs": [],
   "source": []
  }
 ],
 "metadata": {
  "kernelspec": {
   "display_name": "Python 3",
   "language": "python",
   "name": "python3"
  },
  "language_info": {
   "codemirror_mode": {
    "name": "ipython",
    "version": 3
   },
   "file_extension": ".py",
   "mimetype": "text/x-python",
   "name": "python",
   "nbconvert_exporter": "python",
   "pygments_lexer": "ipython3",
   "version": "3.6.5"
  }
 },
 "nbformat": 4,
 "nbformat_minor": 2
}
